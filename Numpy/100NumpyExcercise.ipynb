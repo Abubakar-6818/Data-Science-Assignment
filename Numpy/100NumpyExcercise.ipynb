{
 "cells": [
  {
   "cell_type": "markdown",
   "metadata": {},
   "source": [
    "# Question 1\n",
    "### Import the numpy package under the name np\n"
   ]
  },
  {
   "cell_type": "code",
   "execution_count": 113,
   "metadata": {},
   "outputs": [],
   "source": [
    "# Import the numpy package under the name np\n",
    "import numpy as np\n",
    "\n",
    "\n"
   ]
  },
  {
   "cell_type": "markdown",
   "metadata": {},
   "source": [
    "# Question 2\n",
    "### Print the numpy version and the configuration"
   ]
  },
  {
   "cell_type": "code",
   "execution_count": 114,
   "metadata": {},
   "outputs": [
    {
     "name": "stdout",
     "output_type": "stream",
     "text": [
      "NumPy Version: 1.24.3\n",
      "\n",
      "NumPy Configuration:\n",
      "blas_armpl_info:\n",
      "  NOT AVAILABLE\n",
      "blas_mkl_info:\n",
      "    libraries = ['mkl_rt']\n",
      "    library_dirs = ['C:/Users/Abubakar Alamin/anaconda3\\\\Library\\\\lib']\n",
      "    define_macros = [('SCIPY_MKL_H', None), ('HAVE_CBLAS', None)]\n",
      "    include_dirs = ['C:/Users/Abubakar Alamin/anaconda3\\\\Library\\\\include']\n",
      "blas_opt_info:\n",
      "    libraries = ['mkl_rt']\n",
      "    library_dirs = ['C:/Users/Abubakar Alamin/anaconda3\\\\Library\\\\lib']\n",
      "    define_macros = [('SCIPY_MKL_H', None), ('HAVE_CBLAS', None)]\n",
      "    include_dirs = ['C:/Users/Abubakar Alamin/anaconda3\\\\Library\\\\include']\n",
      "lapack_armpl_info:\n",
      "  NOT AVAILABLE\n",
      "lapack_mkl_info:\n",
      "    libraries = ['mkl_rt']\n",
      "    library_dirs = ['C:/Users/Abubakar Alamin/anaconda3\\\\Library\\\\lib']\n",
      "    define_macros = [('SCIPY_MKL_H', None), ('HAVE_CBLAS', None)]\n",
      "    include_dirs = ['C:/Users/Abubakar Alamin/anaconda3\\\\Library\\\\include']\n",
      "lapack_opt_info:\n",
      "    libraries = ['mkl_rt']\n",
      "    library_dirs = ['C:/Users/Abubakar Alamin/anaconda3\\\\Library\\\\lib']\n",
      "    define_macros = [('SCIPY_MKL_H', None), ('HAVE_CBLAS', None)]\n",
      "    include_dirs = ['C:/Users/Abubakar Alamin/anaconda3\\\\Library\\\\include']\n",
      "Supported SIMD extensions in this NumPy install:\n",
      "    baseline = SSE,SSE2,SSE3\n",
      "    found = SSSE3,SSE41,POPCNT,SSE42\n",
      "    not found = AVX,F16C,FMA3,AVX2,AVX512F,AVX512CD,AVX512_SKX,AVX512_CLX,AVX512_CNL,AVX512_ICL\n",
      "None\n"
     ]
    }
   ],
   "source": [
    "#Print the numpy version and the configuration\n",
    "print(\"NumPy Version:\", np.__version__)\n",
    "# Print NumPy configuration\n",
    "print(\"\\nNumPy Configuration:\")\n",
    "print(np.show_config())"
   ]
  },
  {
   "cell_type": "markdown",
   "metadata": {},
   "source": [
    "# Question 3\n",
    "### Create a null vector of size 10"
   ]
  },
  {
   "cell_type": "code",
   "execution_count": 115,
   "metadata": {},
   "outputs": [
    {
     "name": "stdout",
     "output_type": "stream",
     "text": [
      "[0. 0. 0. 0. 0. 0. 0. 0. 0. 0.]\n"
     ]
    }
   ],
   "source": [
    "# Create a null vector of size 10\n",
    "null_vector = np.zeros(10)\n",
    "\n",
    "print(null_vector)"
   ]
  },
  {
   "cell_type": "markdown",
   "metadata": {},
   "source": [
    "# Question 4\n",
    " ### How to find the memory size of any array\n"
   ]
  },
  {
   "cell_type": "code",
   "execution_count": 116,
   "metadata": {},
   "outputs": [
    {
     "name": "stdout",
     "output_type": "stream",
     "text": [
      "Memory size of the array: 80 bytes\n"
     ]
    }
   ],
   "source": [
    "#How to find the memory size of any array\n",
    "memory_size_bytes = null_vector.nbytes\n",
    "\n",
    "print(f\"Memory size of the array: {memory_size_bytes} bytes\")"
   ]
  },
  {
   "cell_type": "markdown",
   "metadata": {},
   "source": [
    "# Question 5\n",
    "* How to get the documentation of the numpy add function from the command line?"
   ]
  },
  {
   "cell_type": "code",
   "execution_count": 117,
   "metadata": {},
   "outputs": [
    {
     "name": "stdout",
     "output_type": "stream",
     "text": [
      "\u001b[1;31mCall signature:\u001b[0m  \u001b[0mnp\u001b[0m\u001b[1;33m.\u001b[0m\u001b[0madd\u001b[0m\u001b[1;33m(\u001b[0m\u001b[1;33m*\u001b[0m\u001b[0margs\u001b[0m\u001b[1;33m,\u001b[0m \u001b[1;33m**\u001b[0m\u001b[0mkwargs\u001b[0m\u001b[1;33m)\u001b[0m\u001b[1;33m\u001b[0m\u001b[1;33m\u001b[0m\u001b[0m\n",
      "\u001b[1;31mType:\u001b[0m            ufunc\n",
      "\u001b[1;31mString form:\u001b[0m     <ufunc 'add'>\n",
      "\u001b[1;31mFile:\u001b[0m            c:\\users\\abubakar alamin\\anaconda3\\lib\\site-packages\\numpy\\__init__.py\n",
      "\u001b[1;31mDocstring:\u001b[0m      \n",
      "add(x1, x2, /, out=None, *, where=True, casting='same_kind', order='K', dtype=None, subok=True[, signature, extobj])\n",
      "\n",
      "Add arguments element-wise.\n",
      "\n",
      "Parameters\n",
      "----------\n",
      "x1, x2 : array_like\n",
      "    The arrays to be added.\n",
      "    If ``x1.shape != x2.shape``, they must be broadcastable to a common\n",
      "    shape (which becomes the shape of the output).\n",
      "out : ndarray, None, or tuple of ndarray and None, optional\n",
      "    A location into which the result is stored. If provided, it must have\n",
      "    a shape that the inputs broadcast to. If not provided or None,\n",
      "    a freshly-allocated array is returned. A tuple (possible only as a\n",
      "    keyword argument) must have length equal to the number of outputs.\n",
      "where : array_like, optional\n",
      "    This condition is broadcast over the input. At locations where the\n",
      "    condition is True, the `out` array will be set to the ufunc result.\n",
      "    Elsewhere, the `out` array will retain its original value.\n",
      "    Note that if an uninitialized `out` array is created via the default\n",
      "    ``out=None``, locations within it where the condition is False will\n",
      "    remain uninitialized.\n",
      "**kwargs\n",
      "    For other keyword-only arguments, see the\n",
      "    :ref:`ufunc docs <ufuncs.kwargs>`.\n",
      "\n",
      "Returns\n",
      "-------\n",
      "add : ndarray or scalar\n",
      "    The sum of `x1` and `x2`, element-wise.\n",
      "    This is a scalar if both `x1` and `x2` are scalars.\n",
      "\n",
      "Notes\n",
      "-----\n",
      "Equivalent to `x1` + `x2` in terms of array broadcasting.\n",
      "\n",
      "Examples\n",
      "--------\n",
      ">>> np.add(1.0, 4.0)\n",
      "5.0\n",
      ">>> x1 = np.arange(9.0).reshape((3, 3))\n",
      ">>> x2 = np.arange(3.0)\n",
      ">>> np.add(x1, x2)\n",
      "array([[  0.,   2.,   4.],\n",
      "       [  3.,   5.,   7.],\n",
      "       [  6.,   8.,  10.]])\n",
      "\n",
      "The ``+`` operator can be used as a shorthand for ``np.add`` on ndarrays.\n",
      "\n",
      ">>> x1 = np.arange(9.0).reshape((3, 3))\n",
      ">>> x2 = np.arange(3.0)\n",
      ">>> x1 + x2\n",
      "array([[ 0.,  2.,  4.],\n",
      "       [ 3.,  5.,  7.],\n",
      "       [ 6.,  8., 10.]])\n",
      "\u001b[1;31mClass docstring:\u001b[0m\n",
      "Functions that operate element by element on whole arrays.\n",
      "\n",
      "To see the documentation for a specific ufunc, use `info`.  For\n",
      "example, ``np.info(np.sin)``.  Because ufuncs are written in C\n",
      "(for speed) and linked into Python with NumPy's ufunc facility,\n",
      "Python's help() function finds this page whenever help() is called\n",
      "on a ufunc.\n",
      "\n",
      "A detailed explanation of ufuncs can be found in the docs for :ref:`ufuncs`.\n",
      "\n",
      "**Calling ufuncs:** ``op(*x[, out], where=True, **kwargs)``\n",
      "\n",
      "Apply `op` to the arguments `*x` elementwise, broadcasting the arguments.\n",
      "\n",
      "The broadcasting rules are:\n",
      "\n",
      "* Dimensions of length 1 may be prepended to either array.\n",
      "* Arrays may be repeated along dimensions of length 1.\n",
      "\n",
      "Parameters\n",
      "----------\n",
      "*x : array_like\n",
      "    Input arrays.\n",
      "out : ndarray, None, or tuple of ndarray and None, optional\n",
      "    Alternate array object(s) in which to put the result; if provided, it\n",
      "    must have a shape that the inputs broadcast to. A tuple of arrays\n",
      "    (possible only as a keyword argument) must have length equal to the\n",
      "    number of outputs; use None for uninitialized outputs to be\n",
      "    allocated by the ufunc.\n",
      "where : array_like, optional\n",
      "    This condition is broadcast over the input. At locations where the\n",
      "    condition is True, the `out` array will be set to the ufunc result.\n",
      "    Elsewhere, the `out` array will retain its original value.\n",
      "    Note that if an uninitialized `out` array is created via the default\n",
      "    ``out=None``, locations within it where the condition is False will\n",
      "    remain uninitialized.\n",
      "**kwargs\n",
      "    For other keyword-only arguments, see the :ref:`ufunc docs <ufuncs.kwargs>`.\n",
      "\n",
      "Returns\n",
      "-------\n",
      "r : ndarray or tuple of ndarray\n",
      "    `r` will have the shape that the arrays in `x` broadcast to; if `out` is\n",
      "    provided, it will be returned. If not, `r` will be allocated and\n",
      "    may contain uninitialized values. If the function has more than one\n",
      "    output, then the result will be a tuple of arrays."
     ]
    }
   ],
   "source": [
    "# How to get the documentation of the numpy add function from the command line?\n",
    "np.add?"
   ]
  },
  {
   "cell_type": "markdown",
   "metadata": {},
   "source": [
    "# Question 6\n",
    "* Create a null vector of size 10 but the fifth value which is 1"
   ]
  },
  {
   "cell_type": "code",
   "execution_count": 118,
   "metadata": {},
   "outputs": [
    {
     "name": "stdout",
     "output_type": "stream",
     "text": [
      "[0. 0. 0. 0. 1. 0. 0. 0. 0. 0.]\n"
     ]
    }
   ],
   "source": [
    "#Create a null vector of size 10 but the fifth value which is 1\n",
    "null_vector = np.zeros(10)\n",
    "\n",
    "# Set the fifth value to 1\n",
    "null_vector[4] = 1\n",
    "print(null_vector)"
   ]
  },
  {
   "cell_type": "markdown",
   "metadata": {},
   "source": [
    "# Question 7\n",
    "* Create a vector with values ranging from 10 to 49"
   ]
  },
  {
   "cell_type": "code",
   "execution_count": 119,
   "metadata": {},
   "outputs": [
    {
     "name": "stdout",
     "output_type": "stream",
     "text": [
      "[10 11 12 13 14 15 16 17 18 19 20 21 22 23 24 25 26 27 28 29 30 31 32 33\n",
      " 34 35 36 37 38 39 40 41 42 43 44 45 46 47 48 49]\n"
     ]
    }
   ],
   "source": [
    "#Create a vector with values ranging from 10 to 49\n",
    "vector = np.arange(10,50)\n",
    "print(vector)"
   ]
  },
  {
   "cell_type": "markdown",
   "metadata": {},
   "source": [
    "# Question 8 \n",
    "* Reverse a vector (first element becomes last) "
   ]
  },
  {
   "cell_type": "code",
   "execution_count": 120,
   "metadata": {},
   "outputs": [
    {
     "name": "stdout",
     "output_type": "stream",
     "text": [
      "[49 48 47 46 45 44 43 42 41 40 39 38 37 36 35 34 33 32 31 30 29 28 27 26\n",
      " 25 24 23 22 21 20 19 18 17 16 15 14 13 12 11 10]\n"
     ]
    }
   ],
   "source": [
    "#Reverse a vector (first element becomes last) \n",
    "reversed_vector = vector[::-1]\n",
    "print(reversed_vector)"
   ]
  },
  {
   "cell_type": "markdown",
   "metadata": {},
   "source": [
    "# Question 9\n",
    "* Create a 3x3 matrix with values ranging from 0 to 8"
   ]
  },
  {
   "cell_type": "code",
   "execution_count": 121,
   "metadata": {},
   "outputs": [
    {
     "data": {
      "text/plain": [
       "array([[0, 1, 2],\n",
       "       [3, 4, 5],\n",
       "       [6, 7, 8]])"
      ]
     },
     "execution_count": 121,
     "metadata": {},
     "output_type": "execute_result"
    }
   ],
   "source": [
    "#Create a 3x3 matrix with values ranging from 0 to 8\n",
    "matrix = np.arange(9).reshape((3,3))\n",
    "matrix"
   ]
  },
  {
   "cell_type": "markdown",
   "metadata": {},
   "source": [
    "# Question 10\n",
    "* Find indices of non-zero elements from [1,2,0,0,4,0]"
   ]
  },
  {
   "cell_type": "code",
   "execution_count": 122,
   "metadata": {},
   "outputs": [
    {
     "data": {
      "text/plain": [
       "(array([0, 1, 4], dtype=int64),)"
      ]
     },
     "execution_count": 122,
     "metadata": {},
     "output_type": "execute_result"
    }
   ],
   "source": [
    "#Find indices of non-zero elements from [1,2,0,0,4,0]\n",
    "array = np.array([1, 2, 0, 0, 4, 0])\n",
    "nonzero_indices = np.nonzero(array)\n",
    "nonzero_indices"
   ]
  },
  {
   "cell_type": "markdown",
   "metadata": {},
   "source": [
    "# Question 11\n",
    "* Create a 3x3 identity matrix"
   ]
  },
  {
   "cell_type": "code",
   "execution_count": 123,
   "metadata": {},
   "outputs": [
    {
     "data": {
      "text/plain": [
       "array([[1., 0., 0.],\n",
       "       [0., 1., 0.],\n",
       "       [0., 0., 1.]])"
      ]
     },
     "execution_count": 123,
     "metadata": {},
     "output_type": "execute_result"
    }
   ],
   "source": [
    "#Create a 3x3 identity matrix\n",
    "identity_matrix = np.eye(3)\n",
    "\n",
    "identity_matrix"
   ]
  },
  {
   "cell_type": "markdown",
   "metadata": {},
   "source": [
    "# Question 12\n",
    "* Create a 3x3x3 array with random values"
   ]
  },
  {
   "cell_type": "code",
   "execution_count": 124,
   "metadata": {},
   "outputs": [
    {
     "name": "stdout",
     "output_type": "stream",
     "text": [
      "[[[0.0123655  0.25413158 0.15622038]\n",
      "  [0.09122766 0.37809829 0.01170656]\n",
      "  [0.36054983 0.47779222 0.41954183]]\n",
      "\n",
      " [[0.08463421 0.81324237 0.60146609]\n",
      "  [0.0550246  0.39138511 0.42853304]\n",
      "  [0.19072145 0.84065941 0.85827422]]\n",
      "\n",
      " [[0.18854758 0.03817583 0.31252648]\n",
      "  [0.5491015  0.45079267 0.3008623 ]\n",
      "  [0.40490316 0.37638647 0.06396826]]]\n"
     ]
    }
   ],
   "source": [
    "#Create a 3x3x3 array with random values\n",
    "random_array = np.random.rand(3, 3, 3)\n",
    "print(random_array)"
   ]
  },
  {
   "cell_type": "markdown",
   "metadata": {},
   "source": [
    "# Question 13\n",
    "* Create a 10x10 array with random values and find the minimum and maximum values (★☆☆)\n"
   ]
  },
  {
   "cell_type": "code",
   "execution_count": 125,
   "metadata": {},
   "outputs": [
    {
     "name": "stdout",
     "output_type": "stream",
     "text": [
      "Minimun value: 0.0003572525049966302 Maximum value: 0.9665864701691088\n"
     ]
    }
   ],
   "source": [
    "# Create a 10x10 array with random values and find the minimum and maximum values (★☆☆)\n",
    "\n",
    "array = np.random.rand(10,10)\n",
    "\n",
    "min_val = array.min()\n",
    "max_val = array.max()\n",
    "\n",
    "print(f\"Minimun value: {min_val} Maximum value: {max_val}\")"
   ]
  },
  {
   "cell_type": "markdown",
   "metadata": {},
   "source": [
    "# Question 14 \n",
    "* Create a random vector of size 30 and find the mean value"
   ]
  },
  {
   "cell_type": "code",
   "execution_count": 126,
   "metadata": {},
   "outputs": [
    {
     "name": "stdout",
     "output_type": "stream",
     "text": [
      "Mean value: 29.5\n"
     ]
    }
   ],
   "source": [
    "# Create a random vector of size 30 and find the mean value\n",
    "vectort = np.random.rand(30)\n",
    "\n",
    "mean = np.mean(vector)\n",
    "print(f\"Mean value: {mean}\")"
   ]
  },
  {
   "cell_type": "markdown",
   "metadata": {},
   "source": [
    "# Question 15\n",
    "* Create a 2d array with 1 on the border and 0 inside"
   ]
  },
  {
   "cell_type": "code",
   "execution_count": 127,
   "metadata": {},
   "outputs": [
    {
     "name": "stdout",
     "output_type": "stream",
     "text": [
      "[[1. 1. 1. 1. 1. 1. 1. 1. 1. 1.]\n",
      " [1. 0. 0. 0. 0. 0. 0. 0. 0. 1.]\n",
      " [1. 0. 0. 0. 0. 0. 0. 0. 0. 1.]\n",
      " [1. 0. 0. 0. 0. 0. 0. 0. 0. 1.]\n",
      " [1. 0. 0. 0. 0. 0. 0. 0. 0. 1.]\n",
      " [1. 0. 0. 0. 0. 0. 0. 0. 0. 1.]\n",
      " [1. 0. 0. 0. 0. 0. 0. 0. 0. 1.]\n",
      " [1. 0. 0. 0. 0. 0. 0. 0. 0. 1.]\n",
      " [1. 0. 0. 0. 0. 0. 0. 0. 0. 1.]\n",
      " [1. 1. 1. 1. 1. 1. 1. 1. 1. 1.]]\n"
     ]
    }
   ],
   "source": [
    "#  Create a 2d array with 1 on the border and 0 inside\n",
    "border_array = np.ones((10, 10))\n",
    "border_array[1:-1, 1:-1] = 0\n",
    "\n",
    "print(border_array)"
   ]
  },
  {
   "cell_type": "markdown",
   "metadata": {},
   "source": [
    "# Questiton 16\n",
    "* How to add a border (filled with 0's) around an existing array?"
   ]
  },
  {
   "cell_type": "code",
   "execution_count": 128,
   "metadata": {},
   "outputs": [
    {
     "name": "stdout",
     "output_type": "stream",
     "text": [
      "Original Array:\n",
      "[[1 2 3]\n",
      " [4 5 6]\n",
      " [7 8 9]]\n",
      "\n",
      "Array with Border:\n",
      "[[0. 0. 0. 0. 0.]\n",
      " [0. 1. 2. 3. 0.]\n",
      " [0. 4. 5. 6. 0.]\n",
      " [0. 7. 8. 9. 0.]\n",
      " [0. 0. 0. 0. 0.]]\n"
     ]
    }
   ],
   "source": [
    "# How to add a border (filled with 0's) around an existing array?\n",
    "import numpy as np\n",
    "\n",
    "# Create an example array\n",
    "original_array = np.array([[1, 2, 3],\n",
    "                           [4, 5, 6],\n",
    "                           [7, 8, 9]])\n",
    "\n",
    "original_array.shape\n",
    "\n",
    "# Create a larger array filled with zeros\n",
    "bordered_array = np.zeros((3 + 2, 3 + 2))\n",
    "\n",
    "# Place the original array inside the larger array\n",
    "bordered_array[1:-1, 1:-1] = original_array\n",
    "\n",
    "print(\"Original Array:\")\n",
    "print(original_array)\n",
    "\n",
    "print(\"\\nArray with Border:\")\n",
    "print(bordered_array)\n"
   ]
  },
  {
   "cell_type": "markdown",
   "metadata": {},
   "source": [
    "# Question 17\n",
    "* What is the result of the following expression?"
   ]
  },
  {
   "cell_type": "code",
   "execution_count": 129,
   "metadata": {},
   "outputs": [
    {
     "data": {
      "text/plain": [
       "False"
      ]
     },
     "execution_count": 129,
     "metadata": {},
     "output_type": "execute_result"
    }
   ],
   "source": [
    "# What is the result of the following expression?\n",
    "0 * np.nan\n",
    "np.nan == np.nan\n",
    "np.inf > np.nan\n",
    "np.nan - np.nan\n",
    "np.nan in set([np.nan])\n",
    "0.3 == 3 * 0.1"
   ]
  },
  {
   "cell_type": "markdown",
   "metadata": {},
   "source": [
    "# Question 18\n",
    "* Create a 5x5 matrix with values 1,2,3,4 just below the diagonal "
   ]
  },
  {
   "cell_type": "code",
   "execution_count": 130,
   "metadata": {},
   "outputs": [
    {
     "name": "stdout",
     "output_type": "stream",
     "text": [
      "[[0 0 0 0 0]\n",
      " [1 0 0 0 0]\n",
      " [0 2 0 0 0]\n",
      " [0 0 3 0 0]\n",
      " [0 0 0 4 0]]\n"
     ]
    }
   ],
   "source": [
    "# Create a 5x5 matrix with values 1,2,3,4 just below the diagonal \n",
    "diagonal_matrix = np.diag([1, 2, 3, 4], k=-1)\n",
    "\n",
    "print(diagonal_matrix)"
   ]
  },
  {
   "cell_type": "markdown",
   "metadata": {},
   "source": [
    "# Question 19\n",
    "* Create a 8x8 matrix and fill it with a checkerboard pattern"
   ]
  },
  {
   "cell_type": "code",
   "execution_count": 131,
   "metadata": {},
   "outputs": [
    {
     "name": "stdout",
     "output_type": "stream",
     "text": [
      "[[0 1 0 1 0 1 0 1]\n",
      " [1 0 1 0 1 0 1 0]\n",
      " [0 1 0 1 0 1 0 1]\n",
      " [1 0 1 0 1 0 1 0]\n",
      " [0 1 0 1 0 1 0 1]\n",
      " [1 0 1 0 1 0 1 0]\n",
      " [0 1 0 1 0 1 0 1]\n",
      " [1 0 1 0 1 0 1 0]]\n"
     ]
    }
   ],
   "source": [
    "# Create a 8x8 matrix and fill it with a checkerboard pattern\n",
    "checkerboard_matrix = np.zeros((8, 8), dtype=int)\n",
    "\n",
    "# Fill the checkerboard pattern with 1s\n",
    "checkerboard_matrix[1::2, ::2] = 1\n",
    "checkerboard_matrix[::2, 1::2] = 1\n",
    "\n",
    "print(checkerboard_matrix)"
   ]
  },
  {
   "cell_type": "markdown",
   "metadata": {},
   "source": [
    "# Question 20 \n",
    "* Consider a (6,7,8) shape array, what is the index (x,y,z) of the 100th element?"
   ]
  },
  {
   "cell_type": "code",
   "execution_count": 132,
   "metadata": {},
   "outputs": [
    {
     "name": "stdout",
     "output_type": "stream",
     "text": [
      "Index (x, y, z) of the 100th element: (1, 5, 4)\n"
     ]
    }
   ],
   "source": [
    "# Consider a (6,7,8) shape array, what is the index (x,y,z) of the 100th element?\n",
    "\n",
    "import numpy as np\n",
    "\n",
    "# Define the shape of the array\n",
    "shape = (6, 7, 8)\n",
    "\n",
    "# Create a flattened array\n",
    "flattened_array = np.arange(np.prod(shape))\n",
    "\n",
    "# Find the index (x, y, z) of the 100th element\n",
    "index_xyz = np.unravel_index(100, shape)\n",
    "\n",
    "print(\"Index (x, y, z) of the 100th element:\", index_xyz)"
   ]
  },
  {
   "cell_type": "markdown",
   "metadata": {},
   "source": [
    "# Question 21\n",
    "* Create a checkerboard 8x8 matrix using the tile function"
   ]
  },
  {
   "cell_type": "code",
   "execution_count": 133,
   "metadata": {},
   "outputs": [
    {
     "name": "stdout",
     "output_type": "stream",
     "text": [
      "[[0 1 0 1 0 1 0 1]\n",
      " [1 0 1 0 1 0 1 0]\n",
      " [0 1 0 1 0 1 0 1]\n",
      " [1 0 1 0 1 0 1 0]\n",
      " [0 1 0 1 0 1 0 1]\n",
      " [1 0 1 0 1 0 1 0]\n",
      " [0 1 0 1 0 1 0 1]\n",
      " [1 0 1 0 1 0 1 0]]\n"
     ]
    }
   ],
   "source": [
    "# Create a checkerboard 8x8 matrix using the tile function\n",
    "# Create a 2x2 checkerboard\n",
    "checkerboard_tile = np.array([[0, 1], [1, 0]])\n",
    "\n",
    "# Use np.tile() to create an 8x8 checkerboard matrix\n",
    "checkerboard_matrix = np.tile(checkerboard_tile, (4, 4))\n",
    "\n",
    "print(checkerboard_matrix)"
   ]
  },
  {
   "cell_type": "markdown",
   "metadata": {},
   "source": [
    "# Question 22\n",
    "* Normalize a 5x5 random matrix "
   ]
  },
  {
   "cell_type": "code",
   "execution_count": 134,
   "metadata": {},
   "outputs": [
    {
     "name": "stdout",
     "output_type": "stream",
     "text": [
      "Original Matrix:\n",
      "[[0.30205806 0.64968885 0.96445397 0.81790689 0.46206302]\n",
      " [0.46710963 0.867692   0.11223544 0.60411222 0.97423682]\n",
      " [0.48101267 0.25008677 0.72431405 0.52930573 0.4754119 ]\n",
      " [0.36520692 0.14415428 0.74710243 0.99925367 0.18860111]\n",
      " [0.64187946 0.7977641  0.07655272 0.09442283 0.69688918]]\n",
      "\n",
      "Normalized Matrix:\n",
      "[[0.244397   0.62115048 0.96228496 0.80346094 0.41780633]\n",
      " [0.42327572 0.85741679 0.03867204 0.57175567 0.97288738]\n",
      " [0.43834349 0.18807182 0.70202739 0.49068229 0.43227352]\n",
      " [0.31283614 0.07326487 0.72672485 1.         0.12143523]\n",
      " [0.61268686 0.78163069 0.         0.01936718 0.672305  ]]\n"
     ]
    }
   ],
   "source": [
    "#Normalize a 5x5 random matrix \n",
    "\n",
    "random_matrix = np.random.rand(5, 5)\n",
    "\n",
    "# Normalize the matrix\n",
    "normalized_matrix = (random_matrix - np.min(random_matrix)) / (np.max(random_matrix) - np.min(random_matrix))\n",
    "\n",
    "print(\"Original Matrix:\")\n",
    "print(random_matrix)\n",
    "\n",
    "print(\"\\nNormalized Matrix:\")\n",
    "print(normalized_matrix)"
   ]
  },
  {
   "cell_type": "markdown",
   "metadata": {},
   "source": [
    "# Question 23\n",
    "* Create a custom dtype that describes a color as four unsigned bytes (RGBA)"
   ]
  },
  {
   "cell_type": "code",
   "execution_count": 135,
   "metadata": {},
   "outputs": [
    {
     "name": "stdout",
     "output_type": "stream",
     "text": [
      "[(255,   0,   0, 255) (  0, 255,   0, 255) (  0,   0, 255, 255)]\n"
     ]
    }
   ],
   "source": [
    "#Create a custom dtype that describes a color as four unsigned bytes (RGBA)\n",
    "\n",
    "# Define a custom dtype for RGBA color\n",
    "rgba_dtype = np.dtype([('R', np.uint8), ('G', np.uint8), ('B', np.uint8), ('A', np.uint8)])\n",
    "\n",
    "# Create an array with the custom dtype\n",
    "color_array = np.array([(255, 0, 0, 255),  # Red\n",
    "                       (0, 255, 0, 255),   # Green\n",
    "                       (0, 0, 255, 255)],  # Blue\n",
    "                      dtype=rgba_dtype)\n",
    "\n",
    "print(color_array)"
   ]
  },
  {
   "cell_type": "markdown",
   "metadata": {},
   "source": [
    "# Question 24\n",
    "*  Multiply a 5x3 matrix by a 3x2 matrix (real matrix product)"
   ]
  },
  {
   "cell_type": "code",
   "execution_count": 136,
   "metadata": {},
   "outputs": [
    {
     "name": "stdout",
     "output_type": "stream",
     "text": [
      "5x3 Matrix:\n",
      "[[0.70161223 0.55737822 0.82195314]\n",
      " [0.21372987 0.91786044 0.56617717]\n",
      " [0.51209522 0.24214664 0.1204315 ]\n",
      " [0.53952044 0.05561479 0.88087129]\n",
      " [0.48864021 0.02352675 0.17901625]]\n",
      "\n",
      "3x2 Matrix:\n",
      "[[0.75376987 0.09640494]\n",
      " [0.52551203 0.40259948]\n",
      " [0.96492592 0.08394264]]\n",
      "\n",
      "Resultant Matrix (5x2):\n",
      "[[1.61488701 0.36103598]\n",
      " [1.18976887 0.43766116]\n",
      " [0.62946039 0.15696596]\n",
      " [1.28587603 0.14834558]\n",
      " [0.55342328 0.07160628]]\n"
     ]
    }
   ],
   "source": [
    "# Multiply a 5x3 matrix by a 3x2 matrix (real matrix product)\n",
    "\n",
    "\n",
    "\n",
    "\n",
    "# Create a 5x3 matrix\n",
    "matrix_a = np.random.rand(5, 3)\n",
    "\n",
    "# Create a 3x2 matrix\n",
    "matrix_b = np.random.rand(3, 2)\n",
    "\n",
    "# Multiply the matrices\n",
    "result_matrix = np.dot(matrix_a, matrix_b)\n",
    "\n",
    "print(\"5x3 Matrix:\")\n",
    "print(matrix_a)\n",
    "\n",
    "print(\"\\n3x2 Matrix:\")\n",
    "print(matrix_b)\n",
    "\n",
    "print(\"\\nResultant Matrix (5x2):\")\n",
    "print(result_matrix)\n"
   ]
  },
  {
   "cell_type": "markdown",
   "metadata": {},
   "source": [
    "# Question 25\n",
    "* Given a 1D array, negate all elements which are between 3 and 8, in place. "
   ]
  },
  {
   "cell_type": "code",
   "execution_count": 137,
   "metadata": {},
   "outputs": [
    {
     "name": "stdout",
     "output_type": "stream",
     "text": [
      "Modified 1D Array:\n",
      "[ 1 -5 -7 -4  9  2 -6  8  3 10]\n"
     ]
    }
   ],
   "source": [
    "# 25. Given a 1D array, negate all elements which are between 3 and 8, in place. \n",
    "\n",
    "array_1d = np.array([1, 5, 7, 4, 9, 2, 6, 8, 3, 10])\n",
    "\n",
    "\n",
    "array_1d[(array_1d > 3) & (array_1d < 8)] *= -1\n",
    "\n",
    "print(\"Modified 1D Array:\")\n",
    "print(array_1d)"
   ]
  },
  {
   "cell_type": "markdown",
   "metadata": {},
   "source": [
    "# Question 26\n",
    "* What is the output of the following script?\n",
    "* Author: Jake VanderPlas"
   ]
  },
  {
   "cell_type": "code",
   "execution_count": 138,
   "metadata": {},
   "outputs": [
    {
     "name": "stdout",
     "output_type": "stream",
     "text": [
      "10\n",
      "10\n"
     ]
    }
   ],
   "source": [
    "# 26. What is the output of the following script?\n",
    "# Author: Jake VanderPlas\n",
    "\n",
    "print(sum(range(5),-1))\n",
    "from numpy import *\n",
    "print(sum(range(5),-1))"
   ]
  },
  {
   "cell_type": "markdown",
   "metadata": {},
   "source": [
    "# QUESTION 27\n",
    "\n",
    "* Consider an integer vector Z, which of these expressions are legal? (★☆☆)"
   ]
  },
  {
   "cell_type": "code",
   "execution_count": 139,
   "metadata": {},
   "outputs": [
    {
     "data": {
      "text/plain": [
       "False"
      ]
     },
     "execution_count": 139,
     "metadata": {},
     "output_type": "execute_result"
    }
   ],
   "source": [
    "Z = 8\n",
    "Z**Z\n",
    "2 << Z >> 2\n",
    "Z <- Z\n",
    "1j*Z\n",
    "Z/1/1\n",
    "Z<Z>Z"
   ]
  },
  {
   "cell_type": "markdown",
   "metadata": {},
   "source": [
    "# Question 28\n",
    "* What are the result of the following expressions"
   ]
  },
  {
   "cell_type": "code",
   "execution_count": 140,
   "metadata": {},
   "outputs": [
    {
     "name": "stderr",
     "output_type": "stream",
     "text": [
      "C:\\Users\\Abubakar Alamin\\AppData\\Local\\Temp\\ipykernel_7132\\548293649.py:1: RuntimeWarning: invalid value encountered in divide\n",
      "  np.array(0) / np.array(0)\n",
      "C:\\Users\\Abubakar Alamin\\AppData\\Local\\Temp\\ipykernel_7132\\548293649.py:2: RuntimeWarning: divide by zero encountered in floor_divide\n",
      "  np.array(0) // np.array(0)\n",
      "C:\\Users\\Abubakar Alamin\\AppData\\Local\\Temp\\ipykernel_7132\\548293649.py:3: RuntimeWarning: invalid value encountered in cast\n",
      "  np.array([np.nan]).astype(int).astype(float)\n"
     ]
    },
    {
     "data": {
      "text/plain": [
       "array([-2.14748365e+09])"
      ]
     },
     "execution_count": 140,
     "metadata": {},
     "output_type": "execute_result"
    }
   ],
   "source": [
    "np.array(0) / np.array(0)\n",
    "np.array(0) // np.array(0)\n",
    "np.array([np.nan]).astype(int).astype(float)"
   ]
  },
  {
   "cell_type": "markdown",
   "metadata": {},
   "source": [
    "# Question 29 \n",
    "* How to round away from zero a float array ?"
   ]
  },
  {
   "cell_type": "code",
   "execution_count": 141,
   "metadata": {},
   "outputs": [
    {
     "name": "stdout",
     "output_type": "stream",
     "text": [
      "Original Float Array:\n",
      "[ 2.3 -4.7  8.1 -1.5  3.9]\n",
      "\n",
      "Rounded Away from Zero:\n",
      "[ 3. -5.  9. -2.  4.]\n"
     ]
    }
   ],
   "source": [
    "import numpy as np\n",
    "\n",
    "# Create a float array\n",
    "float_array = np.array([2.3, -4.7, 8.1, -1.5, 3.9])\n",
    "\n",
    "# Round away from zero\n",
    "rounded_array = np.where(float_array >= 0, np.ceil(float_array), np.floor(float_array))\n",
    "\n",
    "print(\"Original Float Array:\")\n",
    "print(float_array)\n",
    "\n",
    "print(\"\\nRounded Away from Zero:\")\n",
    "print(rounded_array)\n"
   ]
  },
  {
   "cell_type": "markdown",
   "metadata": {},
   "source": [
    "# Question 30\n",
    "* How to find common values between two arrays? "
   ]
  },
  {
   "cell_type": "code",
   "execution_count": 142,
   "metadata": {},
   "outputs": [
    {
     "name": "stdout",
     "output_type": "stream",
     "text": [
      "Common Values: [3, 4, 5]\n"
     ]
    }
   ],
   "source": [
    "# Create two lists\n",
    "list1 = [1, 2, 3, 4, 5]\n",
    "list2 = [3, 4, 5, 6, 7]\n",
    "\n",
    "common_values = list(set(list1) & set(list2))\n",
    "\n",
    "print(\"Common Values:\", common_values)\n"
   ]
  },
  {
   "cell_type": "markdown",
   "metadata": {},
   "source": [
    "# Question 31 \n",
    "* How to ignore all numpy warnings (not recommended)?"
   ]
  },
  {
   "cell_type": "code",
   "execution_count": 143,
   "metadata": {},
   "outputs": [
    {
     "data": {
      "text/plain": [
       "{'divide': 'ignore', 'over': 'ignore', 'under': 'ignore', 'invalid': 'ignore'}"
      ]
     },
     "execution_count": 143,
     "metadata": {},
     "output_type": "execute_result"
    }
   ],
   "source": [
    "# Save the current warning settings\n",
    "current_settings = np.seterr(all='ignore')\n",
    "\n",
    "# Restore the original warning settings\n",
    "np.seterr(**current_settings)"
   ]
  },
  {
   "cell_type": "markdown",
   "metadata": {},
   "source": [
    "# Question 32\n",
    "* Is the following expressions true? "
   ]
  },
  {
   "cell_type": "code",
   "execution_count": 144,
   "metadata": {},
   "outputs": [
    {
     "name": "stderr",
     "output_type": "stream",
     "text": [
      "C:\\Users\\Abubakar Alamin\\AppData\\Local\\Temp\\ipykernel_7132\\244602691.py:1: RuntimeWarning: invalid value encountered in sqrt\n",
      "  np.sqrt(-1) == np.emath.sqrt(-1)\n"
     ]
    },
    {
     "data": {
      "text/plain": [
       "False"
      ]
     },
     "execution_count": 144,
     "metadata": {},
     "output_type": "execute_result"
    }
   ],
   "source": [
    "np.sqrt(-1) == np.emath.sqrt(-1)"
   ]
  },
  {
   "cell_type": "markdown",
   "metadata": {},
   "source": [
    "# Question 33 \n",
    "* How to get the dates of yesterday, today and tomorrow? "
   ]
  },
  {
   "cell_type": "code",
   "execution_count": 145,
   "metadata": {},
   "outputs": [
    {
     "name": "stdout",
     "output_type": "stream",
     "text": [
      "Yesterday: 2024-02-10\n",
      "Today: 2024-02-11\n",
      "Tomorrow: 2024-02-12\n"
     ]
    }
   ],
   "source": [
    "from datetime import datetime, timedelta\n",
    "\n",
    "# Get today's date\n",
    "today = datetime.now().date()\n",
    "\n",
    "# Get yesterday's date\n",
    "yesterday = today - timedelta(days=1)\n",
    "\n",
    "# Get tomorrow's date\n",
    "tomorrow = today + timedelta(days=1)\n",
    "\n",
    "print(\"Yesterday:\", yesterday)\n",
    "print(\"Today:\", today)\n",
    "print(\"Tomorrow:\", tomorrow)\n"
   ]
  },
  {
   "cell_type": "markdown",
   "metadata": {},
   "source": [
    "# Question 34\n",
    "* How to get all the dates corresponding to the month of July 2016?"
   ]
  },
  {
   "cell_type": "code",
   "execution_count": 146,
   "metadata": {},
   "outputs": [
    {
     "data": {
      "text/plain": [
       "[datetime.date(2016, 7, 1),\n",
       " datetime.date(2016, 7, 2),\n",
       " datetime.date(2016, 7, 3),\n",
       " datetime.date(2016, 7, 4),\n",
       " datetime.date(2016, 7, 5),\n",
       " datetime.date(2016, 7, 6),\n",
       " datetime.date(2016, 7, 7),\n",
       " datetime.date(2016, 7, 8),\n",
       " datetime.date(2016, 7, 9),\n",
       " datetime.date(2016, 7, 10),\n",
       " datetime.date(2016, 7, 11),\n",
       " datetime.date(2016, 7, 12),\n",
       " datetime.date(2016, 7, 13),\n",
       " datetime.date(2016, 7, 14),\n",
       " datetime.date(2016, 7, 15),\n",
       " datetime.date(2016, 7, 16),\n",
       " datetime.date(2016, 7, 17),\n",
       " datetime.date(2016, 7, 18),\n",
       " datetime.date(2016, 7, 19),\n",
       " datetime.date(2016, 7, 20),\n",
       " datetime.date(2016, 7, 21),\n",
       " datetime.date(2016, 7, 22),\n",
       " datetime.date(2016, 7, 23),\n",
       " datetime.date(2016, 7, 24),\n",
       " datetime.date(2016, 7, 25),\n",
       " datetime.date(2016, 7, 26),\n",
       " datetime.date(2016, 7, 27),\n",
       " datetime.date(2016, 7, 28),\n",
       " datetime.date(2016, 7, 29),\n",
       " datetime.date(2016, 7, 30),\n",
       " datetime.date(2016, 7, 31)]"
      ]
     },
     "execution_count": 146,
     "metadata": {},
     "output_type": "execute_result"
    }
   ],
   "source": [
    "from datetime import datetime, timedelta\n",
    "\n",
    "# Define the start and end dates for July 2016\n",
    "start_date = datetime(2016, 7, 1)\n",
    "end_date = datetime(2016, 7, 31)\n",
    "\n",
    "# Generate all the dates for July 2016\n",
    "current_date = start_date\n",
    "all_dates = []\n",
    "\n",
    "while current_date <= end_date:\n",
    "    all_dates.append(current_date.date())\n",
    "    current_date += timedelta(days=1)\n",
    "\n",
    "all_dates"
   ]
  },
  {
   "cell_type": "markdown",
   "metadata": {},
   "source": [
    "# Question 35\n",
    "* How to compute ((A+B)*(-A/2)) in place (without copy)?"
   ]
  },
  {
   "cell_type": "code",
   "execution_count": 147,
   "metadata": {},
   "outputs": [
    {
     "name": "stdout",
     "output_type": "stream",
     "text": [
      "Result: [-15 -28 -45]\n"
     ]
    }
   ],
   "source": [
    "\n",
    "# Create arrays A and B\n",
    "A = np.array([1, 2, 3], dtype=np.int32)\n",
    "B = np.array([4, 5, 6])\n",
    "\n",
    "# Compute the expression in place\n",
    "result = np.add(A, B, out=A)\n",
    "result = np.multiply(result, -A//2, out=result)\n",
    "\n",
    "print(\"Result:\", result)\n"
   ]
  },
  {
   "cell_type": "markdown",
   "metadata": {},
   "source": [
    "# Question 36\n",
    "* Extract the integer part of a random array of positive numbers using 4 different methods"
   ]
  },
  {
   "cell_type": "code",
   "execution_count": 148,
   "metadata": {},
   "outputs": [
    {
     "name": "stdout",
     "output_type": "stream",
     "text": [
      "Method 1: [9 8 4 1 8]\n",
      "Method 2: [9. 8. 4. 1. 8.]\n",
      "Method 3: [9. 8. 4. 1. 8.]\n",
      "Method 4: [9, 8, 4, 1, 8]\n"
     ]
    }
   ],
   "source": [
    "# Generate a random array of positive numbers\n",
    "random_array = np.random.rand(5) * 10\n",
    "\n",
    "# Method 1: Using astype to convert to integers\n",
    "integer_part_method1 = random_array.astype(int)\n",
    "\n",
    "print(\"Method 1:\", integer_part_method1)\n",
    "\n",
    "# Method 2: Using numpy.floor\n",
    "integer_part_method2 = np.floor(random_array)\n",
    "\n",
    "print(\"Method 2:\", integer_part_method2)\n",
    "\n",
    "# Method 3: Using numpy.ceil\n",
    "integer_part_method3 = np.ceil(random_array) - 1\n",
    "\n",
    "print(\"Method 3:\", integer_part_method3)\n",
    "\n",
    "\n",
    "\n",
    "# Method 4: Using map and int\n",
    "integer_part_method4 = list(map(int, random_array))\n",
    "\n",
    "print(\"Method 4:\", integer_part_method4)\n"
   ]
  },
  {
   "cell_type": "markdown",
   "metadata": {},
   "source": [
    "# Question 37\n",
    "* Create a 5x5 matrix with row values ranging from 0 to 4"
   ]
  },
  {
   "cell_type": "code",
   "execution_count": 149,
   "metadata": {},
   "outputs": [
    {
     "name": "stdout",
     "output_type": "stream",
     "text": [
      "[[0 1 2 3 4]\n",
      " [0 1 2 3 4]\n",
      " [0 1 2 3 4]\n",
      " [0 1 2 3 4]\n",
      " [0 1 2 3 4]]\n"
     ]
    }
   ],
   "source": [
    "# Create a 5x5 matrix with row values ranging from 0 to 4\n",
    "matrix_5x5 = np.tile(np.arange(5), (5, 1))\n",
    "\n",
    "print(matrix_5x5)"
   ]
  },
  {
   "cell_type": "markdown",
   "metadata": {},
   "source": [
    "# Question 38\n",
    "*  Consider a generator function that generates 10 integers and use it to build an array"
   ]
  },
  {
   "cell_type": "code",
   "execution_count": 150,
   "metadata": {},
   "outputs": [
    {
     "name": "stdout",
     "output_type": "stream",
     "text": [
      "[0 1 2 3 4 5 6 7 8 9]\n"
     ]
    }
   ],
   "source": [
    "#Generator function to generate 10 integers\n",
    "def integer_generator():\n",
    "    for i in range(10):\n",
    "        yield i\n",
    "\n",
    "# Create an array using the generator function\n",
    "generated_array = np.fromiter(integer_generator(), dtype=int)\n",
    "\n",
    "print(generated_array)"
   ]
  },
  {
   "cell_type": "markdown",
   "metadata": {},
   "source": [
    "# Question 39\n",
    "* Create a vector of size 10 with values ranging from 0 to 1, both excluded"
   ]
  },
  {
   "cell_type": "code",
   "execution_count": 151,
   "metadata": {},
   "outputs": [
    {
     "name": "stdout",
     "output_type": "stream",
     "text": [
      "[0.09090909 0.18181818 0.27272727 0.36363636 0.45454545 0.54545455\n",
      " 0.63636364 0.72727273 0.81818182 0.90909091]\n"
     ]
    }
   ],
   "source": [
    "vector = np.linspace(0, 1, num=12)[1:-1]\n",
    "\n",
    "print(vector)"
   ]
  },
  {
   "cell_type": "markdown",
   "metadata": {},
   "source": [
    "# Question 40\n",
    "* Create a random vector of size 10 and sort it "
   ]
  },
  {
   "cell_type": "code",
   "execution_count": 152,
   "metadata": {},
   "outputs": [
    {
     "name": "stdout",
     "output_type": "stream",
     "text": [
      "Original Random Vector: [0.66985455 0.64716893 0.60216831 0.40824081 0.21997774 0.90773725\n",
      " 0.22643655 0.37504561 0.33048484 0.41501899]\n",
      "Sorted Vector: [0.21997774 0.22643655 0.33048484 0.37504561 0.40824081 0.41501899\n",
      " 0.60216831 0.64716893 0.66985455 0.90773725]\n"
     ]
    }
   ],
   "source": [
    "# Create a random vector of size 10\n",
    "random_vector = np.random.rand(10)\n",
    "\n",
    "# Sort the vector\n",
    "sorted_vector = np.sort(random_vector)\n",
    "\n",
    "print(\"Original Random Vector:\", random_vector)\n",
    "print(\"Sorted Vector:\", sorted_vector)"
   ]
  },
  {
   "cell_type": "markdown",
   "metadata": {},
   "source": [
    "# Question 41 \n",
    "* How to sum a small array faster than np.sum? \n"
   ]
  },
  {
   "cell_type": "code",
   "execution_count": 153,
   "metadata": {},
   "outputs": [
    {
     "name": "stdout",
     "output_type": "stream",
     "text": [
      "NumPy Sum Result: 15\n",
      "NumPy Sum Time: 0.0\n",
      "Built-in Sum Result: 15\n",
      "Built-in Sum Time: 0.0\n"
     ]
    }
   ],
   "source": [
    "import time\n",
    "\n",
    "# Create a small array\n",
    "small_array = np.array([1, 2, 3, 4, 5])\n",
    "\n",
    "# Measure the time taken by np.sum()\n",
    "start_time_np = time.time()\n",
    "result_np = np.sum(small_array)\n",
    "end_time_np = time.time()\n",
    "print(\"NumPy Sum Result:\", result_np)\n",
    "print(\"NumPy Sum Time:\", end_time_np - start_time_np)\n",
    "\n",
    "# Measure the time taken by Python's built-in sum()\n",
    "start_time_builtin = time.time()\n",
    "result_builtin = sum(small_array)\n",
    "end_time_builtin = time.time()\n",
    "print(\"Built-in Sum Result:\", result_builtin)\n",
    "print(\"Built-in Sum Time:\", end_time_builtin - start_time_builtin)"
   ]
  },
  {
   "cell_type": "markdown",
   "metadata": {},
   "source": [
    "# Question 42\n",
    "*  Consider two random array A and B, check if they are equal "
   ]
  },
  {
   "cell_type": "code",
   "execution_count": 154,
   "metadata": {},
   "outputs": [
    {
     "name": "stdout",
     "output_type": "stream",
     "text": [
      "Array A: [0.91536509 0.2340402  0.5443889  0.18301025 0.30168121]\n",
      "Array B: [0.24447081 0.63967752 0.06715937 0.37185207 0.30950029]\n",
      "Are A and B equal? False\n"
     ]
    }
   ],
   "source": [
    "# Create two random arrays A and B\n",
    "A = np.random.rand(5)\n",
    "B = np.random.rand(5)\n",
    "\n",
    "# Check if arrays A and B are equal\n",
    "are_equal = np.array_equal(A, B)\n",
    "\n",
    "print(\"Array A:\", A)\n",
    "print(\"Array B:\", B)\n",
    "print(\"Are A and B equal?\", are_equal)"
   ]
  },
  {
   "cell_type": "markdown",
   "metadata": {},
   "source": [
    "# Question 43\n",
    "* Make an array immutable (read-only)"
   ]
  },
  {
   "cell_type": "code",
   "execution_count": 155,
   "metadata": {},
   "outputs": [
    {
     "name": "stdout",
     "output_type": "stream",
     "text": [
      "Error: assignment destination is read-only\n"
     ]
    }
   ],
   "source": [
    "\n",
    "# Create a NumPy array\n",
    "my_array = np.array([1, 2, 3, 4, 5])\n",
    "\n",
    "# Make the array read-only\n",
    "my_array.flags.writeable = False\n",
    "\n",
    "# Try to modify the array (will raise an error)\n",
    "try:\n",
    "    my_array[0] = 10\n",
    "except ValueError as e:\n",
    "    print(f\"Error: {e}\")\n"
   ]
  },
  {
   "cell_type": "markdown",
   "metadata": {},
   "source": [
    "# Question 44\n",
    "* Consider a random 10x2 matrix representing cartesian coordinates, convert them to polar coordinates "
   ]
  },
  {
   "cell_type": "code",
   "execution_count": 156,
   "metadata": {},
   "outputs": [
    {
     "name": "stdout",
     "output_type": "stream",
     "text": [
      "Cartesian Coordinates:\n",
      "[[0.47677375 0.54162312]\n",
      " [0.58832878 0.3589487 ]\n",
      " [0.8772264  0.51193186]\n",
      " [0.14589924 0.02022822]\n",
      " [0.62758232 0.20881814]\n",
      " [0.30953932 0.54169748]\n",
      " [0.46554592 0.93432539]\n",
      " [0.45862677 0.05829729]\n",
      " [0.42532046 0.70554377]\n",
      " [0.58830257 0.39350985]]\n",
      "\n",
      "Polar Coordinates:\n",
      "[[0.72157384 0.8489902 ]\n",
      " [0.68918424 0.54782442]\n",
      " [1.01567731 0.52825854]\n",
      " [0.14729484 0.13776687]\n",
      " [0.66141106 0.32121129]\n",
      " [0.62389963 1.05165314]\n",
      " [1.04388549 1.10853401]\n",
      " [0.46231709 0.12643466]\n",
      " [0.82382614 1.02830113]\n",
      " [0.70777815 0.58954043]]\n"
     ]
    }
   ],
   "source": [
    "# Create a random 10x2 matrix representing Cartesian coordinates\n",
    "cartesian_coordinates = np.random.rand(10, 2)\n",
    "\n",
    "# Extract x and y coordinates\n",
    "x, y = cartesian_coordinates[:, 0], cartesian_coordinates[:, 1]\n",
    "\n",
    "# Convert to polar coordinates\n",
    "radius = np.sqrt(x**2 + y**2)\n",
    "theta = np.arctan2(y, x)\n",
    "\n",
    "# Create a 10x2 matrix representing polar coordinates\n",
    "polar_coordinates = np.column_stack((radius, theta))\n",
    "\n",
    "print(\"Cartesian Coordinates:\")\n",
    "print(cartesian_coordinates)\n",
    "print(\"\\nPolar Coordinates:\")\n",
    "print(polar_coordinates)"
   ]
  },
  {
   "cell_type": "markdown",
   "metadata": {},
   "source": [
    "# Question 45\n",
    "* Create random vector of size 10 and replace the maximum value by 0"
   ]
  },
  {
   "cell_type": "code",
   "execution_count": 157,
   "metadata": {},
   "outputs": [
    {
     "name": "stdout",
     "output_type": "stream",
     "text": [
      "Random Vector: [0.48363405 0.67133211 0.41278147 0.         0.42836024 0.05611041\n",
      " 0.48006193 0.14816033 0.36797148 0.01652798]\n"
     ]
    }
   ],
   "source": [
    "# Create a random vector of size 10\n",
    "random_vector = np.random.rand(10)\n",
    "\n",
    "# Find the index of the maximum value\n",
    "max_index = np.argmax(random_vector)\n",
    "\n",
    "# Replace the maximum value with 0\n",
    "random_vector[max_index] = 0\n",
    "\n",
    "print(\"Random Vector:\", random_vector)"
   ]
  },
  {
   "cell_type": "markdown",
   "metadata": {},
   "source": [
    "# Question 46\n",
    "* Create a structured array with x and y coordinates covering the [0,1]x[0,1] area"
   ]
  },
  {
   "cell_type": "code",
   "execution_count": 158,
   "metadata": {},
   "outputs": [
    {
     "name": "stdout",
     "output_type": "stream",
     "text": [
      "[[(0.  , 0.  ) (0.  , 0.  )]\n",
      " [(0.25, 0.25) (0.  , 0.  )]\n",
      " [(0.5 , 0.5 ) (0.  , 0.  )]\n",
      " [(0.75, 0.75) (0.  , 0.  )]\n",
      " [(1.  , 1.  ) (0.  , 0.  )]\n",
      " [(0.  , 0.  ) (0.25, 0.25)]\n",
      " [(0.25, 0.25) (0.25, 0.25)]\n",
      " [(0.5 , 0.5 ) (0.25, 0.25)]\n",
      " [(0.75, 0.75) (0.25, 0.25)]\n",
      " [(1.  , 1.  ) (0.25, 0.25)]\n",
      " [(0.  , 0.  ) (0.5 , 0.5 )]\n",
      " [(0.25, 0.25) (0.5 , 0.5 )]\n",
      " [(0.5 , 0.5 ) (0.5 , 0.5 )]\n",
      " [(0.75, 0.75) (0.5 , 0.5 )]\n",
      " [(1.  , 1.  ) (0.5 , 0.5 )]\n",
      " [(0.  , 0.  ) (0.75, 0.75)]\n",
      " [(0.25, 0.25) (0.75, 0.75)]\n",
      " [(0.5 , 0.5 ) (0.75, 0.75)]\n",
      " [(0.75, 0.75) (0.75, 0.75)]\n",
      " [(1.  , 1.  ) (0.75, 0.75)]\n",
      " [(0.  , 0.  ) (1.  , 1.  )]\n",
      " [(0.25, 0.25) (1.  , 1.  )]\n",
      " [(0.5 , 0.5 ) (1.  , 1.  )]\n",
      " [(0.75, 0.75) (1.  , 1.  )]\n",
      " [(1.  , 1.  ) (1.  , 1.  )]]\n"
     ]
    }
   ],
   "source": [
    "# Define the number of points in each dimension\n",
    "num_points = 5  # Adjust as needed\n",
    "\n",
    "# Generate x and y coordinates\n",
    "x = np.linspace(0, 1, num_points)\n",
    "y = np.linspace(0, 1, num_points)\n",
    "\n",
    "# Create a meshgrid\n",
    "x_grid, y_grid = np.meshgrid(x, y)\n",
    "\n",
    "# Stack the coordinates to create a structured array\n",
    "structured_array = np.column_stack((x_grid.ravel(), y_grid.ravel()))\n",
    "\n",
    "# Specify field names for x and y\n",
    "structured_array = np.array(structured_array, dtype=[('x', float), ('y', float)])\n",
    "\n",
    "print(structured_array)\n"
   ]
  },
  {
   "cell_type": "markdown",
   "metadata": {},
   "source": [
    "# Question 47 \n",
    "* Given two arrays, X and Y, construct the Cauchy matrix C (Cij =1/(xi - yj))"
   ]
  },
  {
   "cell_type": "code",
   "execution_count": 159,
   "metadata": {},
   "outputs": [
    {
     "data": {
      "text/plain": [
       "array([[0.  , 0.  ],\n",
       "       [0.25, 0.  ],\n",
       "       [0.5 , 0.  ],\n",
       "       [0.75, 0.  ],\n",
       "       [1.  , 0.  ],\n",
       "       [0.  , 0.25],\n",
       "       [0.25, 0.25],\n",
       "       [0.5 , 0.25],\n",
       "       [0.75, 0.25],\n",
       "       [1.  , 0.25],\n",
       "       [0.  , 0.5 ],\n",
       "       [0.25, 0.5 ],\n",
       "       [0.5 , 0.5 ],\n",
       "       [0.75, 0.5 ],\n",
       "       [1.  , 0.5 ],\n",
       "       [0.  , 0.75],\n",
       "       [0.25, 0.75],\n",
       "       [0.5 , 0.75],\n",
       "       [0.75, 0.75],\n",
       "       [1.  , 0.75],\n",
       "       [0.  , 1.  ],\n",
       "       [0.25, 1.  ],\n",
       "       [0.5 , 1.  ],\n",
       "       [0.75, 1.  ],\n",
       "       [1.  , 1.  ]])"
      ]
     },
     "execution_count": 159,
     "metadata": {},
     "output_type": "execute_result"
    }
   ],
   "source": [
    "structured_array = np.column_stack((x_grid.ravel(), y_grid.ravel()))\n",
    "structured_array"
   ]
  },
  {
   "cell_type": "markdown",
   "metadata": {},
   "source": [
    "# Question 48\n",
    "* Print the minimum and maximum representable value for each numpy scalar type"
   ]
  },
  {
   "cell_type": "code",
   "execution_count": 160,
   "metadata": {},
   "outputs": [
    {
     "data": {
      "text/plain": [
       "array([0.  , 0.25, 0.5 , 0.75, 1.  ])"
      ]
     },
     "execution_count": 160,
     "metadata": {},
     "output_type": "execute_result"
    }
   ],
   "source": [
    "x"
   ]
  },
  {
   "cell_type": "markdown",
   "metadata": {},
   "source": [
    "# Question 49\n",
    "* How to print all the values of an array? "
   ]
  },
  {
   "cell_type": "code",
   "execution_count": 161,
   "metadata": {},
   "outputs": [
    {
     "data": {
      "text/plain": [
       "array([0.  , 0.25, 0.5 , 0.75, 1.  ])"
      ]
     },
     "execution_count": 161,
     "metadata": {},
     "output_type": "execute_result"
    }
   ],
   "source": [
    "y"
   ]
  },
  {
   "cell_type": "markdown",
   "metadata": {},
   "source": [
    "# Question 50\n",
    "* How to find the closest value (to a given scalar) in a vector?"
   ]
  },
  {
   "cell_type": "code",
   "execution_count": 162,
   "metadata": {},
   "outputs": [
    {
     "data": {
      "text/plain": [
       "array([[0.  , 0.  , 0.  , 0.  , 0.  ],\n",
       "       [0.25, 0.25, 0.25, 0.25, 0.25],\n",
       "       [0.5 , 0.5 , 0.5 , 0.5 , 0.5 ],\n",
       "       [0.75, 0.75, 0.75, 0.75, 0.75],\n",
       "       [1.  , 1.  , 1.  , 1.  , 1.  ]])"
      ]
     },
     "execution_count": 162,
     "metadata": {},
     "output_type": "execute_result"
    }
   ],
   "source": [
    "y_grid\n"
   ]
  },
  {
   "cell_type": "markdown",
   "metadata": {},
   "source": [
    "# Question 51\n",
    "*  Create a structured array representing a position (x,y) and a color (r,g,b)"
   ]
  },
  {
   "cell_type": "code",
   "execution_count": null,
   "metadata": {},
   "outputs": [],
   "source": []
  },
  {
   "cell_type": "markdown",
   "metadata": {},
   "source": [
    "# Question 52\n",
    "* Consider a random vector with shape (100,2) representing coordinates, find point by point distances"
   ]
  },
  {
   "cell_type": "code",
   "execution_count": null,
   "metadata": {},
   "outputs": [],
   "source": []
  },
  {
   "cell_type": "markdown",
   "metadata": {},
   "source": [
    "# Question 53\n",
    "* How to convert a float (32 bits) array into an integer (32 bits) in place"
   ]
  },
  {
   "cell_type": "markdown",
   "metadata": {},
   "source": [
    "# Question 54\n",
    "* How to read the following file? (★★☆)\n"
   ]
  },
  {
   "cell_type": "code",
   "execution_count": 163,
   "metadata": {},
   "outputs": [
    {
     "data": {
      "text/plain": [
       "' \\n1, 2, 3, 4, 5\\n6,  ,  , 7, 8\\n ,  , 9,10,11 \\n '"
      ]
     },
     "execution_count": 163,
     "metadata": {},
     "output_type": "execute_result"
    }
   ],
   "source": [
    "\"\"\" \n",
    "1, 2, 3, 4, 5\n",
    "6,  ,  , 7, 8\n",
    " ,  , 9,10,11 \n",
    " \"\"\""
   ]
  },
  {
   "cell_type": "markdown",
   "metadata": {},
   "source": [
    "# Question 55\n",
    "### What is the equivalent of enumerate for numpy arrays?"
   ]
  },
  {
   "cell_type": "code",
   "execution_count": 164,
   "metadata": {},
   "outputs": [
    {
     "name": "stdout",
     "output_type": "stream",
     "text": [
      "Index: (0, 0) Value: 1\n",
      "Index: (0, 1) Value: 2\n",
      "Index: (0, 2) Value: 3\n",
      "Index: (1, 0) Value: 4\n",
      "Index: (1, 1) Value: 5\n",
      "Index: (1, 2) Value: 6\n",
      "Index: (2, 0) Value: 7\n",
      "Index: (2, 1) Value: 8\n",
      "Index: (2, 2) Value: 9\n"
     ]
    }
   ],
   "source": [
    "# Create a 2D NumPy array\n",
    "arr = np.array([[1, 2, 3], [4, 5, 6], [7, 8, 9]])\n",
    "\n",
    "# Enumerate over the array\n",
    "for index, value in np.ndenumerate(arr):\n",
    "    print(\"Index:\", index, \"Value:\", value)"
   ]
  },
  {
   "cell_type": "markdown",
   "metadata": {},
   "source": [
    "# Question 56\n",
    "### Generate a generic 2D Gaussian-like array "
   ]
  },
  {
   "cell_type": "code",
   "execution_count": 165,
   "metadata": {},
   "outputs": [
    {
     "data": {
      "image/png": "[encoded data removed]",
      "text/plain": [
       "<Figure size 640x480 with 2 Axes>"
      ]
     },
     "metadata": {},
     "output_type": "display_data"
    }
   ],
   "source": [
    "import matplotlib.pyplot as plt\n",
    "\n",
    "# Define parameters\n",
    "size = 100  # Size of the array\n",
    "center = (size - 1) / 2  # Center of the array\n",
    "sigma = 10  # Standard deviation of the Gaussian distribution\n",
    "\n",
    "# Create a grid of coordinates\n",
    "x, y = np.meshgrid(np.arange(size), np.arange(size))\n",
    "\n",
    "# Create a 2D Gaussian-like array\n",
    "gaussian_array = np.exp(-((x - center)**2 + (y - center)**2) / (2 * sigma**2))\n",
    "\n",
    "# Plot the Gaussian-like array\n",
    "plt.imshow(gaussian_array, cmap='viridis', extent=(0, size, 0, size), origin='lower')\n",
    "plt.title('2D Gaussian-like Array')\n",
    "plt.colorbar()\n",
    "plt.show()"
   ]
  },
  {
   "cell_type": "markdown",
   "metadata": {},
   "source": [
    "# Question 57\n",
    "### How to randomly place p elements in a 2D array? (★★☆)"
   ]
  },
  {
   "cell_type": "code",
   "execution_count": 166,
   "metadata": {},
   "outputs": [
    {
     "name": "stdout",
     "output_type": "stream",
     "text": [
      "[[0 1 0 0 0]\n",
      " [0 0 1 1 0]\n",
      " [1 0 0 1 0]\n",
      " [0 0 1 0 0]\n",
      " [0 0 0 0 0]]\n"
     ]
    }
   ],
   "source": [
    "\n",
    "\n",
    "def randomly_place_elements(array, p):\n",
    "    # Get the dimensions of the array\n",
    "    rows, cols = array.shape\n",
    "    \n",
    "    # Calculate the total number of elements\n",
    "    total_elements = rows * cols\n",
    "    \n",
    "    # Calculate the number of elements to randomly place\n",
    "    num_elements_to_place = min(p, total_elements)\n",
    "    \n",
    "    # Create a flat index array\n",
    "    flat_indices = np.arange(total_elements)\n",
    "    \n",
    "    # Shuffle the flat index array randomly\n",
    "    np.random.shuffle(flat_indices)\n",
    "    \n",
    "    # Flatten the 2D array and place elements at random indices\n",
    "    flat_array = array.flatten()\n",
    "    flat_array[flat_indices[:num_elements_to_place]] = 1  # Replace with any value you want\n",
    "    \n",
    "    # Reshape the flat array back to the original shape\n",
    "    result_array = flat_array.reshape((rows, cols))\n",
    "    \n",
    "    return result_array\n",
    "\n",
    "# Example usage\n",
    "rows, cols = 5, 5\n",
    "p = 6\n",
    "initial_array = np.zeros((rows, cols), dtype=int)\n",
    "\n",
    "result_array = randomly_place_elements(initial_array, p)\n",
    "print(result_array)\n"
   ]
  },
  {
   "cell_type": "markdown",
   "metadata": {},
   "source": [
    "# Question 58\n",
    "### Subtract the mean of each row of a matrix (★★☆)"
   ]
  },
  {
   "cell_type": "code",
   "execution_count": 167,
   "metadata": {},
   "outputs": [
    {
     "name": "stdout",
     "output_type": "stream",
     "text": [
      "Original Matrix:\n",
      "[[1 2 3]\n",
      " [4 5 6]\n",
      " [7 8 9]]\n",
      "\n",
      "Matrix after subtracting the mean of each row:\n",
      "[[-1.  0.  1.]\n",
      " [-1.  0.  1.]\n",
      " [-1.  0.  1.]]\n"
     ]
    }
   ],
   "source": [
    "# Create a sample matrix\n",
    "matrix = np.array([[1, 2, 3],\n",
    "                   [4, 5, 6],\n",
    "                   [7, 8, 9]])\n",
    "\n",
    "# Subtract the mean of each row\n",
    "result_matrix = matrix - np.mean(matrix, axis=1, keepdims=True)\n",
    "\n",
    "print(\"Original Matrix:\")\n",
    "print(matrix)\n",
    "print(\"\\nMatrix after subtracting the mean of each row:\")\n",
    "print(result_matrix)"
   ]
  },
  {
   "cell_type": "markdown",
   "metadata": {},
   "source": [
    "# Question 59\n",
    "### How to sort an array by the nth column? (★★☆)"
   ]
  },
  {
   "cell_type": "code",
   "execution_count": 168,
   "metadata": {},
   "outputs": [
    {
     "ename": "IndexError",
     "evalue": "index 3 is out of bounds for axis 1 with size 3",
     "output_type": "error",
     "traceback": [
      "\u001b[1;31m---------------------------------------------------------------------------\u001b[0m",
      "\u001b[1;31mIndexError\u001b[0m                                Traceback (most recent call last)",
      "Cell \u001b[1;32mIn[168], line 10\u001b[0m\n\u001b[0;32m      7\u001b[0m nth_column \u001b[38;5;241m=\u001b[39m \u001b[38;5;241m3\u001b[39m\n\u001b[0;32m      9\u001b[0m \u001b[38;5;66;03m# Get the indices that would sort the nth column\u001b[39;00m\n\u001b[1;32m---> 10\u001b[0m sorted_indices \u001b[38;5;241m=\u001b[39m np\u001b[38;5;241m.\u001b[39margsort(array[:, nth_column])\n\u001b[0;32m     12\u001b[0m \u001b[38;5;66;03m# Sort the array based on the nth column\u001b[39;00m\n\u001b[0;32m     13\u001b[0m sorted_array \u001b[38;5;241m=\u001b[39m array[sorted_indices]\n",
      "\u001b[1;31mIndexError\u001b[0m: index 3 is out of bounds for axis 1 with size 3"
     ]
    }
   ],
   "source": [
    "# Create a sample 2D array\n",
    "array = np.array([[1, 5, 3],\n",
    "                  [4, 2, 8],\n",
    "                  [7, 6, 9]])\n",
    "\n",
    "# Define the column index to sort by (0-indexed)\n",
    "nth_column = 3\n",
    "\n",
    "# Get the indices that would sort the nth column\n",
    "sorted_indices = np.argsort(array[:, nth_column])\n",
    "\n",
    "# Sort the array based on the nth column\n",
    "sorted_array = array[sorted_indices]\n",
    "\n",
    "print(\"Original Array:\")\n",
    "print(array)\n",
    "print(\"\\nArray sorted by the nth column:\")\n",
    "print(sorted_array)\n"
   ]
  },
  {
   "cell_type": "markdown",
   "metadata": {},
   "source": [
    "# Question 60\n",
    "### How to tell if a given 2D array has null columns? (★★☆)"
   ]
  },
  {
   "cell_type": "code",
   "execution_count": null,
   "metadata": {},
   "outputs": [
    {
     "ename": "",
     "evalue": "",
     "output_type": "error",
     "traceback": [
      "\u001b[1;31mFailed to start the Kernel. \n",
      "\u001b[1;31mUnable to start Kernel 'anaconda3 (Python 3.11.5)' due to a connection timeout. \n",
      "\u001b[1;31mView Jupyter <a href='command:jupyter.viewOutput'>log</a> for further details."
     ]
    }
   ],
   "source": [
    "def has_null_columns(array):\n",
    "    # Check if the sum of each column is zero\n",
    "    column_sums = np.sum(array, axis=0)\n",
    "    return np.any(column_sums == 0)\n",
    "\n",
    "# Example usage\n",
    "array1 = np.array([[1, 2, 3],\n",
    "                   [0, 0, 0],\n",
    "                   [4, 5, 6]])\n",
    "\n",
    "array2 = np.array([[1, 2, 3],\n",
    "                   [4, 5, 6],\n",
    "                   [7, 8, 9]])\n",
    "\n",
    "print(\"Array 1 has null columns:\", has_null_columns(array1))\n",
    "print(\"Array 2 has null columns:\", has_null_columns(array2))\n"
   ]
  },
  {
   "cell_type": "markdown",
   "metadata": {},
   "source": [
    "# Question 61\n",
    "### Find the nearest value from a given value in an array (★★☆)"
   ]
  },
  {
   "cell_type": "code",
   "execution_count": null,
   "metadata": {},
   "outputs": [
    {
     "ename": "",
     "evalue": "",
     "output_type": "error",
     "traceback": [
      "\u001b[1;31mFailed to start the Kernel. \n",
      "\u001b[1;31mUnable to start Kernel 'anaconda3 (Python 3.11.5)' due to a connection timeout. \n",
      "\u001b[1;31mView Jupyter <a href='command:jupyter.viewOutput'>log</a> for further details."
     ]
    }
   ],
   "source": [
    "def nearest_value(array, value):\n",
    "    # Find the index of the nearest value\n",
    "    index = np.argmin(np.abs(array - value))\n",
    "    \n",
    "    # Get the nearest value\n",
    "    nearest = array[index]\n",
    "    \n",
    "    return nearest\n",
    "\n",
    "# Example usage\n",
    "my_array = np.array([1, 3, 5, 7, 9,59, 78,100])\n",
    "\n",
    "given_value = 108\n",
    "result = nearest_value(my_array, given_value)\n",
    "\n",
    "print(\"Array:\", my_array)\n",
    "print(f\"Nearest value to {given_value}: {result}\")\n"
   ]
  },
  {
   "cell_type": "markdown",
   "metadata": {},
   "source": [
    "# Question 62\n",
    "### Considering two arrays with shape (1,3) and (3,1), how to compute their sum using an iterator? (★★☆)"
   ]
  },
  {
   "cell_type": "code",
   "execution_count": null,
   "metadata": {},
   "outputs": [
    {
     "ename": "",
     "evalue": "",
     "output_type": "error",
     "traceback": [
      "\u001b[1;31mFailed to start the Kernel. \n",
      "\u001b[1;31mUnable to start Kernel 'anaconda3 (Python 3.11.5)' due to a connection timeout. \n",
      "\u001b[1;31mView Jupyter <a href='command:jupyter.viewOutput'>log</a> for further details."
     ]
    }
   ],
   "source": [
    "\n",
    "# Create two arrays with shapes (1,3) and (3,1)\n",
    "array1 = np.array([[1, 2, 3]])\n",
    "array2 = np.array([[4], [5], [6]])\n",
    "\n",
    "# Initialize the iterator\n",
    "it = np.nditer([array1, array2, None])\n",
    "\n",
    "# Iterate over the arrays and compute the sum\n",
    "for x, y, z in it:\n",
    "    z[...] = x + y\n",
    "\n",
    "# Get the result array\n",
    "result_array = it.operands[2]\n",
    "\n",
    "print(\"Array 1:\")\n",
    "print(array1)\n",
    "print(\"\\nArray 2:\")\n",
    "print(array2)\n",
    "print(\"\\nSum using iterator:\")\n",
    "print(result_array)\n"
   ]
  },
  {
   "cell_type": "markdown",
   "metadata": {},
   "source": [
    "# Question 63\n",
    "### Create an array class that has a name attribute (★★☆)"
   ]
  },
  {
   "cell_type": "code",
   "execution_count": null,
   "metadata": {},
   "outputs": [
    {
     "ename": "",
     "evalue": "",
     "output_type": "error",
     "traceback": [
      "\u001b[1;31mFailed to start the Kernel. \n",
      "\u001b[1;31mUnable to start Kernel 'anaconda3 (Python 3.11.5)' due to a connection timeout. \n",
      "\u001b[1;31mView Jupyter <a href='command:jupyter.viewOutput'>log</a> for further details."
     ]
    }
   ],
   "source": [
    "class NamedArray:\n",
    "    def __init__(self, array, name):\n",
    "        self.array = array\n",
    "        self.name = name\n",
    "\n",
    "# Example usage\n",
    "data = [1, 2, 3, 4, 5]\n",
    "array_with_name = NamedArray(data, \"ExampleArray\")\n",
    "\n",
    "# Accessing attributes\n",
    "print(f\"Name: {array_with_name.name}\")\n",
    "print(f\"Array: {array_with_name.array}\")\n"
   ]
  },
  {
   "cell_type": "markdown",
   "metadata": {},
   "source": [
    "# Question 64\n",
    "### Consider a given vector, how to add 1 to each element indexed by a second vector (be careful with repeated indices)? (★★★)"
   ]
  },
  {
   "cell_type": "code",
   "execution_count": null,
   "metadata": {},
   "outputs": [
    {
     "ename": "",
     "evalue": "",
     "output_type": "error",
     "traceback": [
      "\u001b[1;31mFailed to start the Kernel. \n",
      "\u001b[1;31mUnable to start Kernel 'anaconda3 (Python 3.11.5)' due to a connection timeout. \n",
      "\u001b[1;31mView Jupyter <a href='command:jupyter.viewOutput'>log</a> for further details."
     ]
    }
   ],
   "source": [
    "def add_one_at_indices(vector, indices):\n",
    "    # Find unique indices and their counts\n",
    "    unique_indices, counts = np.unique(indices, return_counts=True)\n",
    "    \n",
    "    # Add 1 to each element at unique indices\n",
    "    vector[unique_indices] += 1\n",
    "    \n",
    "    # Adjust for repeated indices\n",
    "    vector[unique_indices] -= counts - 1\n",
    "    \n",
    "    return vector\n",
    "\n",
    "# Example usage\n",
    "original_vector = np.array([1, 2, 3, 4, 5])\n",
    "indices_to_add_one = np.array([1, 2, 3, 2, 4])\n",
    "\n",
    "result_vector = add_one_at_indices(original_vector, indices_to_add_one)\n",
    "\n",
    "print(\"Original Vector:\", original_vector)\n",
    "print(\"Indices to add 1:\", indices_to_add_one)\n",
    "print(\"Result Vector:\", result_vector)"
   ]
  },
  {
   "cell_type": "markdown",
   "metadata": {},
   "source": [
    "# Question 65\n",
    "###  How to accumulate elements of a vector (X) to an array (F) based on an index list (I)? (★★★)"
   ]
  },
  {
   "cell_type": "code",
   "execution_count": null,
   "metadata": {},
   "outputs": [
    {
     "ename": "",
     "evalue": "",
     "output_type": "error",
     "traceback": [
      "\u001b[1;31mFailed to start the Kernel. \n",
      "\u001b[1;31mUnable to start Kernel 'anaconda3 (Python 3.11.5)' due to a connection timeout. \n",
      "\u001b[1;31mView Jupyter <a href='command:jupyter.viewOutput'>log</a> for further details."
     ]
    }
   ],
   "source": [
    "\n",
    "def accumulate_elements(X, F, I):\n",
    "    # Use numpy.add.at to accumulate elements based on indices\n",
    "    np.add.at(F, I, X)\n",
    "    \n",
    "    return F\n",
    "\n",
    "# Example usage\n",
    "X = np.array([1, 2, 3, 4, 5])\n",
    "F = np.zeros(10)  # Initial array with zeros\n",
    "I = np.array([2, 5, 1, 2, 5])\n",
    "\n",
    "result_array = accumulate_elements(X, F, I)\n",
    "\n",
    "print(\"Vector X:\", X)\n",
    "print(\"Initial Array F:\", F)\n",
    "print(\"Index List I:\", I)\n",
    "print(\"Result Array F after accumulation:\", result_array)\n"
   ]
  },
  {
   "cell_type": "markdown",
   "metadata": {},
   "source": [
    "# Question 66\n",
    "### Considering a (w,h,3) image of (dtype=ubyte), compute the number of unique colors (★★☆)\n"
   ]
  },
  {
   "cell_type": "code",
   "execution_count": null,
   "metadata": {},
   "outputs": [
    {
     "ename": "",
     "evalue": "",
     "output_type": "error",
     "traceback": [
      "\u001b[1;31mFailed to start the Kernel. \n",
      "\u001b[1;31mUnable to start Kernel 'anaconda3 (Python 3.11.5)' due to a connection timeout. \n",
      "\u001b[1;31mView Jupyter <a href='command:jupyter.viewOutput'>log</a> for further details."
     ]
    }
   ],
   "source": [
    "\n",
    "def count_unique_colors(image):\n",
    "    # Reshape the image to a 2D array with 3 columns (RGB channels)\n",
    "    reshaped_image = np.reshape(image, (image.shape[0] * image.shape[1], 3))\n",
    "\n",
    "    # Convert the reshaped image to a list of tuples\n",
    "    color_tuples = [tuple(color) for color in reshaped_image]\n",
    "\n",
    "    # Get the number of unique colors using a set\n",
    "    unique_colors = set(color_tuples)\n",
    "\n",
    "    return len(unique_colors)\n",
    "\n",
    "# Example usage\n",
    "# Assuming img is your (w, h, 3) image with dtype=ubyte\n",
    "w, h = 4, 4\n",
    "img = np.random.randint(0, 256, size=(w, h, 3), dtype=np.uint8)\n",
    "\n",
    "unique_colors_count = count_unique_colors(img)\n",
    "print(\"Number of unique colors:\", unique_colors_count)\n"
   ]
  },
  {
   "cell_type": "markdown",
   "metadata": {},
   "source": [
    "# Question 67\n",
    "### Considering a four dimensions array, how to get sum over the last two axis at once? (★★★)"
   ]
  },
  {
   "cell_type": "code",
   "execution_count": null,
   "metadata": {},
   "outputs": [
    {
     "ename": "",
     "evalue": "",
     "output_type": "error",
     "traceback": [
      "\u001b[1;31mFailed to start the Kernel. \n",
      "\u001b[1;31mUnable to start Kernel 'anaconda3 (Python 3.11.5)' due to a connection timeout. \n",
      "\u001b[1;31mView Jupyter <a href='command:jupyter.viewOutput'>log</a> for further details."
     ]
    }
   ],
   "source": [
    "# Create a sample 4D array\n",
    "four_dim_array = np.random.randint(0, 10, size=(3, 4, 2, 5))\n",
    "\n",
    "# Get the sum over the last two axes\n",
    "sum_over_last_two_axes = np.sum(four_dim_array, axis=(-2, -1))\n",
    "\n",
    "print(\"Original 4D Array:\")\n",
    "print(four_dim_array)\n",
    "print(\"\\nSum over the last two axes:\")\n",
    "print(sum_over_last_two_axes)"
   ]
  },
  {
   "cell_type": "markdown",
   "metadata": {},
   "source": [
    "# Question 68\n",
    "### Considering a one-dimensional vector D, how to compute means of subsets of D using a vector S of same size describing subset indices? (★★★)"
   ]
  },
  {
   "cell_type": "code",
   "execution_count": null,
   "metadata": {},
   "outputs": [
    {
     "ename": "",
     "evalue": "",
     "output_type": "error",
     "traceback": [
      "\u001b[1;31mFailed to start the Kernel. \n",
      "\u001b[1;31mUnable to start Kernel 'anaconda3 (Python 3.11.5)' due to a connection timeout. \n",
      "\u001b[1;31mView Jupyter <a href='command:jupyter.viewOutput'>log</a> for further details."
     ]
    }
   ],
   "source": [
    "def subset_means(D, S):\n",
    "    unique_indices = np.unique(S)\n",
    "    bin_sum = np.bincount(S, weights=D)\n",
    "    bin_count = np.bincount(S)\n",
    "    \n",
    "    means = bin_sum[unique_indices] / bin_count[unique_indices]\n",
    "    \n",
    "    return means\n",
    "\n",
    "# Example usage\n",
    "D = np.array([1, 2, 3, 4, 5, 6])\n",
    "S = np.array([0, 1, 0, 1, 2, 2])\n",
    "\n",
    "result_means = subset_means(D, S)\n",
    "\n",
    "print(\"Vector D:\", D)\n",
    "print(\"Subset Indices S:\", S)\n",
    "print(\"Means of Subsets:\", result_means)\n"
   ]
  },
  {
   "cell_type": "markdown",
   "metadata": {},
   "source": [
    "# Question 69\n",
    "### How to get the diagonal of a dot product? (★★★)"
   ]
  },
  {
   "cell_type": "code",
   "execution_count": null,
   "metadata": {},
   "outputs": [
    {
     "ename": "",
     "evalue": "",
     "output_type": "error",
     "traceback": [
      "\u001b[1;31mFailed to start the Kernel. \n",
      "\u001b[1;31mUnable to start Kernel 'anaconda3 (Python 3.11.5)' due to a connection timeout. \n",
      "\u001b[1;31mView Jupyter <a href='command:jupyter.viewOutput'>log</a> for further details."
     ]
    }
   ],
   "source": [
    "# Create two matrices A and B\n",
    "A = np.random.rand(3, 3)\n",
    "B = np.random.rand(3, 3)\n",
    "\n",
    "# Calculate the dot product of A and B\n",
    "dot_product = np.dot(A, B)\n",
    "\n",
    "# Get the diagonal of the dot product using einsum\n",
    "diagonal_dot_product = np.einsum('ii->i', dot_product)\n",
    "\n",
    "print(\"Matrix A:\")\n",
    "print(A)\n",
    "print(\"\\nMatrix B:\")\n",
    "print(B)\n",
    "print(\"\\nDot Product:\")\n",
    "print(dot_product)\n",
    "print(\"\\nDiagonal of Dot Product:\")\n",
    "print(diagonal_dot_product)\n"
   ]
  },
  {
   "cell_type": "markdown",
   "metadata": {},
   "source": [
    "# Question 70\n",
    "### Consider the vector [1, 2, 3, 4, 5], how to build a new vector with 3 consecutive zeros interleaved between each value? (★★★)"
   ]
  },
  {
   "cell_type": "code",
   "execution_count": null,
   "metadata": {},
   "outputs": [
    {
     "ename": "",
     "evalue": "",
     "output_type": "error",
     "traceback": [
      "\u001b[1;31mFailed to start the Kernel. \n",
      "\u001b[1;31mUnable to start Kernel 'anaconda3 (Python 3.11.5)' due to a connection timeout. \n",
      "\u001b[1;31mView Jupyter <a href='command:jupyter.viewOutput'>log</a> for further details."
     ]
    }
   ],
   "source": [
    "\n",
    "# Given vector\n",
    "original_vector = np.array([1, 2, 3, 4, 5])\n",
    "\n",
    "# Build a new vector with 3 consecutive zeros interleaved\n",
    "new_vector = np.zeros(len(original_vector) + 3 * (len(original_vector) - 1), dtype=original_vector.dtype)\n",
    "new_vector[::4] = original_vector\n",
    "\n",
    "print(\"Original Vector:\", original_vector)\n",
    "print(\"New Vector with 3 consecutive zeros interleaved:\", new_vector)\n"
   ]
  },
  {
   "cell_type": "markdown",
   "metadata": {},
   "source": [
    "# Question 71\n",
    "### Consider an array of dimension (5,5,3), how to mulitply it by an array with dimensions (5,5)? (★★★)\n",
    "\n",
    "  "
   ]
  },
  {
   "cell_type": "code",
   "execution_count": null,
   "metadata": {},
   "outputs": [
    {
     "ename": "",
     "evalue": "",
     "output_type": "error",
     "traceback": [
      "\u001b[1;31mFailed to start the Kernel. \n",
      "\u001b[1;31mUnable to start Kernel 'anaconda3 (Python 3.11.5)' due to a connection timeout. \n",
      "\u001b[1;31mView Jupyter <a href='command:jupyter.viewOutput'>log</a> for further details."
     ]
    }
   ],
   "source": [
    "# Create a 3D array with dimensions (5, 5, 3)\n",
    "array_3d = np.random.rand(5, 5, 3)\n",
    "\n",
    "# Create a 2D array with dimensions (5, 5)\n",
    "array_2d = np.random.rand(5, 5)\n",
    "\n",
    "# Multiply the arrays element-wise\n",
    "result = array_3d * array_2d[:, :, np.newaxis]\n",
    "\n",
    "print(\"3D Array (shape 5x5x3):\")\n",
    "print(array_3d)\n",
    "print(\"\\n2D Array (shape 5x5):\")\n",
    "print(array_2d)\n",
    "print(\"\\nResult (shape 5x5x3) after element-wise multiplication:\")\n",
    "print(result)\n"
   ]
  },
  {
   "cell_type": "markdown",
   "metadata": {},
   "source": [
    "# Question 72\n",
    "###  How to swap two rows of an array? (★★★)"
   ]
  },
  {
   "cell_type": "code",
   "execution_count": null,
   "metadata": {},
   "outputs": [
    {
     "ename": "",
     "evalue": "",
     "output_type": "error",
     "traceback": [
      "\u001b[1;31mFailed to start the Kernel. \n",
      "\u001b[1;31mUnable to start Kernel 'anaconda3 (Python 3.11.5)' due to a connection timeout. \n",
      "\u001b[1;31mView Jupyter <a href='command:jupyter.viewOutput'>log</a> for further details."
     ]
    }
   ],
   "source": [
    "# Create a sample 2D array\n",
    "array_2d = np.array([[1, 2, 3],\n",
    "                     [4, 5, 6],\n",
    "                     [7, 8, 9]])\n",
    "\n",
    "# Swap rows 1 and 2 (0-indexed)\n",
    "array_2d[1], array_2d[2] = array_2d[2].copy(), array_2d[1].copy()\n",
    "\n",
    "print(\"Original Array:\")\n",
    "print(array_2d)\n"
   ]
  },
  {
   "cell_type": "markdown",
   "metadata": {},
   "source": [
    "# Question 73\n",
    "### Consider a set of 10 triplets describing 10 triangles (with shared vertices), find the set of unique line segments composing all the triangles (★★★)"
   ]
  },
  {
   "cell_type": "code",
   "execution_count": null,
   "metadata": {},
   "outputs": [
    {
     "ename": "",
     "evalue": "",
     "output_type": "error",
     "traceback": [
      "\u001b[1;31mFailed to start the Kernel. \n",
      "\u001b[1;31mUnable to start Kernel 'anaconda3 (Python 3.11.5)' due to a connection timeout. \n",
      "\u001b[1;31mView Jupyter <a href='command:jupyter.viewOutput'>log</a> for further details."
     ]
    }
   ],
   "source": [
    "# Sample set of 10 triangles (each described by 3 vertices)\n",
    "triangles = np.random.randint(0, 10, size=(10, 3, 2))\n",
    "\n",
    "# Flatten the vertices and reshape to get line segments\n",
    "line_segments = triangles.reshape(-1, 2)\n",
    "\n",
    "# Convert line segments to tuples for unique set extraction\n",
    "line_segments_tuples = [tuple(segment) for segment in line_segments]\n",
    "\n",
    "# Get the set of unique line segments\n",
    "unique_line_segments = set(line_segments_tuples)\n",
    "\n",
    "print(\"Original Triangles (Vertices):\")\n",
    "print(triangles)\n",
    "print(\"\\nFlattened Line Segments:\")\n",
    "print(line_segments)\n",
    "print(\"\\nSet of Unique Line Segments:\")\n",
    "print(unique_line_segments)\n"
   ]
  },
  {
   "cell_type": "markdown",
   "metadata": {},
   "source": [
    "# Question 74\n",
    "### Given a sorted array C that corresponds to a bincount, how to produce an array A such that np.bincount(A) == C? (★★★)"
   ]
  },
  {
   "cell_type": "code",
   "execution_count": null,
   "metadata": {},
   "outputs": [
    {
     "ename": "",
     "evalue": "",
     "output_type": "error",
     "traceback": [
      "\u001b[1;31mFailed to start the Kernel. \n",
      "\u001b[1;31mUnable to start Kernel 'anaconda3 (Python 3.11.5)' due to a connection timeout. \n",
      "\u001b[1;31mView Jupyter <a href='command:jupyter.viewOutput'>log</a> for further details."
     ]
    }
   ],
   "source": [
    "def generate_array_from_bincount(C):\n",
    "    # Use np.repeat to generate array A\n",
    "    A = np.repeat(np.arange(len(C)), C)\n",
    "\n",
    "    return A\n",
    "\n",
    "# Example usage\n",
    "C = np.array([1, 2, 0, 3, 1, 2])\n",
    "A = generate_array_from_bincount(C)\n",
    "\n",
    "print(\"Sorted Array C:\", C)\n",
    "print(\"Generated Array A:\", A)\n",
    "print(\"Bincount of A:\", np.bincount(A))\n"
   ]
  },
  {
   "cell_type": "markdown",
   "metadata": {},
   "source": [
    "# Question 75\n",
    "###  How to compute averages using a sliding window over an array? (★★★)"
   ]
  },
  {
   "cell_type": "code",
   "execution_count": null,
   "metadata": {},
   "outputs": [
    {
     "ename": "",
     "evalue": "",
     "output_type": "error",
     "traceback": [
      "\u001b[1;31mFailed to start the Kernel. \n",
      "\u001b[1;31mUnable to start Kernel 'anaconda3 (Python 3.11.5)' due to a connection timeout. \n",
      "\u001b[1;31mView Jupyter <a href='command:jupyter.viewOutput'>log</a> for further details."
     ]
    }
   ],
   "source": [
    "\n",
    "def sliding_window_average(arr, window_size):\n",
    "    # Create a kernel for the sliding window\n",
    "    kernel = np.ones(window_size) / window_size\n",
    "\n",
    "    # Use numpy.convolve to compute the sliding window average\n",
    "    averages = np.convolve(arr, kernel, mode='valid')\n",
    "\n",
    "    return averages\n",
    "\n",
    "# Example usage\n",
    "arr = np.array([1, 2, 3, 4, 5, 6, 7, 8, 9, 10])\n",
    "window_size = 3\n",
    "\n",
    "result_averages = sliding_window_average(arr, window_size)\n",
    "\n",
    "print(\"Original Array:\", arr)\n",
    "print(f\"Averages using a sliding window of size {window_size}:\", result_averages)\n"
   ]
  },
  {
   "cell_type": "markdown",
   "metadata": {},
   "source": [
    "# Question 76\n",
    "####  Consider a one-dimensional array Z, build a two-dimensional array whose first row is (Z[0],Z[1],Z[2]) and each subsequent row is shifted by 1 (last row should be (Z[-3],Z[-2],Z[-1]) (★★★)"
   ]
  },
  {
   "cell_type": "code",
   "execution_count": null,
   "metadata": {},
   "outputs": [
    {
     "ename": "",
     "evalue": "",
     "output_type": "error",
     "traceback": [
      "\u001b[1;31mFailed to start the Kernel. \n",
      "\u001b[1;31mUnable to start Kernel 'anaconda3 (Python 3.11.5)' due to a connection timeout. \n",
      "\u001b[1;31mView Jupyter <a href='command:jupyter.viewOutput'>log</a> for further details."
     ]
    }
   ],
   "source": [
    "def create_shifted_matrix(Z):\n",
    "    # Create a two-dimensional array by stacking shifted rows\n",
    "    result_matrix = np.vstack([Z[i:i+3] for i in range(len(Z) - 2)])\n",
    "\n",
    "    return result_matrix\n",
    "\n",
    "# Example usage\n",
    "Z = np.array([1, 2, 3, 4, 5, 6, 7, 8, 9])\n",
    "result_matrix = create_shifted_matrix(Z)\n",
    "\n",
    "print(\"Original Array Z:\", Z)\n",
    "print(\"Resulting Shifted Matrix:\")\n",
    "print(result_matrix)\n"
   ]
  },
  {
   "cell_type": "markdown",
   "metadata": {},
   "source": [
    "# Question 77\n",
    " ###  How to negate a boolean, or to change the sign of a float inplace? (★★★)\n"
   ]
  },
  {
   "cell_type": "code",
   "execution_count": null,
   "metadata": {},
   "outputs": [
    {
     "ename": "",
     "evalue": "",
     "output_type": "error",
     "traceback": [
      "\u001b[1;31mFailed to start the Kernel. \n",
      "\u001b[1;31mUnable to start Kernel 'anaconda3 (Python 3.11.5)' due to a connection timeout. \n",
      "\u001b[1;31mView Jupyter <a href='command:jupyter.viewOutput'>log</a> for further details."
     ]
    }
   ],
   "source": [
    "\n",
    "# Negate a boolean array inplace\n",
    "boolean_array = np.array([True, False, True])\n",
    "boolean_array = ~boolean_array\n",
    "\n",
    "print(\"Negated Boolean Array:\", boolean_array)\n",
    "\n",
    "# Change the sign of a float array inplace\n",
    "float_array = np.array([1.0, -2.5, 3.8])\n",
    "float_array = -float_array\n",
    "\n",
    "print(\"Changed Sign Float Array:\", float_array)\n"
   ]
  },
  {
   "cell_type": "markdown",
   "metadata": {},
   "source": [
    "# Question 78\n",
    "### Consider 2 sets of points P0,P1 describing lines (2d) and a point p, how to compute distance from p to each line i (P0[i],P1[i])? (★★★)\n"
   ]
  },
  {
   "cell_type": "code",
   "execution_count": null,
   "metadata": {},
   "outputs": [
    {
     "ename": "",
     "evalue": "",
     "output_type": "error",
     "traceback": [
      "\u001b[1;31mFailed to start the Kernel. \n",
      "\u001b[1;31mUnable to start Kernel 'anaconda3 (Python 3.11.5)' due to a connection timeout. \n",
      "\u001b[1;31mView Jupyter <a href='command:jupyter.viewOutput'>log</a> for further details."
     ]
    }
   ],
   "source": [
    "\n",
    "import numpy as np\n",
    "\n",
    "def distance_to_lines(p, P0, P1):\n",
    "    # Convert points to NumPy arrays\n",
    "    p = np.array(p)\n",
    "    P0 = np.array(P0)\n",
    "    P1 = np.array(P1)\n",
    "\n",
    "    # Vector representing the line segments\n",
    "    v = P1 - P0\n",
    "\n",
    "    # Vector from P0 to p\n",
    "    w = p - P0\n",
    "\n",
    "    # Dot product along axis 1\n",
    "    c1 = np.sum(w * v, axis=1)\n",
    "\n",
    "    # Dot product along axis 1\n",
    "    c2 = np.sum(v * v, axis=1)\n",
    "\n",
    "    # Projection parameter\n",
    "    b = c1 / c2\n",
    "\n",
    "    # Clip b to be in the range [0, 1]\n",
    "    b = np.clip(b, 0, 1)\n",
    "\n",
    "    # Closest point on the line to the given point p\n",
    "    closest_point = P0 + b[:, np.newaxis] * v\n",
    "\n",
    "    # Compute the distance between p and the closest point on the line\n",
    "    distance = np.linalg.norm(p - closest_point, axis=1)\n",
    "\n",
    "    return distance\n",
    "\n",
    "# Example usage\n",
    "p = [1, 1]\n",
    "P0 = [[0, 0], [1, 1], [2, 2]]\n",
    "P1 = [[1, 1], [2, 2], [3, 3]]\n",
    "\n",
    "distances = distance_to_lines(p, P0, P1)\n",
    "print(\"Distances to Lines:\", distances)\n"
   ]
  },
  {
   "cell_type": "markdown",
   "metadata": {},
   "source": [
    "# Question 79\n",
    "#### Consider 2 sets of points P0,P1 describing lines (2d) and a set of points P, how to compute distance from each point j (P[j]) to each line i (P0[i],P1[i])? (★★★)\n",
    "   "
   ]
  },
  {
   "cell_type": "code",
   "execution_count": null,
   "metadata": {},
   "outputs": [
    {
     "ename": "",
     "evalue": "",
     "output_type": "error",
     "traceback": [
      "\u001b[1;31mFailed to start the Kernel. \n",
      "\u001b[1;31mUnable to start Kernel 'anaconda3 (Python 3.11.5)' due to a connection timeout. \n",
      "\u001b[1;31mView Jupyter <a href='command:jupyter.viewOutput'>log</a> for further details."
     ]
    }
   ],
   "source": [
    "def distance_to_lines_set(P, P0, P1):\n",
    "    # Convert points to NumPy arrays\n",
    "    P = np.array(P)\n",
    "    P0 = np.array(P0)\n",
    "    P1 = np.array(P1)\n",
    "\n",
    "    # Vector representing the line segments\n",
    "    v = P1 - P0\n",
    "\n",
    "    # Vector from P0 to P\n",
    "    w = P[:, np.newaxis, :] - P0\n",
    "\n",
    "    # Dot product along axis 2\n",
    "    c1 = np.sum(w * v, axis=2)\n",
    "\n",
    "    # Dot product along axis 2\n",
    "    c2 = np.sum(v * v, axis=1)\n",
    "\n",
    "    # Projection parameter\n",
    "    b = c1 / c2\n",
    "\n",
    "    # Clip b to be in the range [0, 1]\n",
    "    b = np.clip(b, 0, 1)\n",
    "\n",
    "    # Closest point on the line to each given point P\n",
    "    closest_point = P0 + b[:, :, np.newaxis] * v\n",
    "\n",
    "    # Compute the distance between each point in P and the closest point on the line\n",
    "    distance = np.linalg.norm(P[:, np.newaxis, :] - closest_point, axis=2)\n",
    "\n",
    "    return distance\n",
    "\n",
    "# Example usage\n",
    "P = [[1, 1], [3, 2], [2, 5]]\n",
    "P0 = [[0, 0], [1, 1], [2, 2]]\n",
    "P1 = [[1, 1], [2, 2], [3, 3]]\n",
    "\n",
    "distances = distance_to_lines_set(P, P0, P1)\n",
    "print(\"Distances to Lines:\")\n",
    "print(distances)\n",
    "\n"
   ]
  },
  {
   "cell_type": "markdown",
   "metadata": {},
   "source": [
    "# Question 80\n",
    "### Consider an arbitrary array, write a function that extract a subpart with a fixed shape and centered on a given element (pad with a fill value when necessary) (★★★)\n",
    "   "
   ]
  },
  {
   "cell_type": "code",
   "execution_count": null,
   "metadata": {},
   "outputs": [
    {
     "ename": "",
     "evalue": "",
     "output_type": "error",
     "traceback": [
      "\u001b[1;31mFailed to start the Kernel. \n",
      "\u001b[1;31mUnable to start Kernel 'anaconda3 (Python 3.11.5)' due to a connection timeout. \n",
      "\u001b[1;31mView Jupyter <a href='command:jupyter.viewOutput'>log</a> for further details."
     ]
    }
   ],
   "source": [
    "import numpy as np\n",
    "\n",
    "def extract_subpart(array, center, shape, fill_value=0):\n",
    "    \"\"\"\n",
    "    Extract a subpart from the array centered on the specified element.\n",
    "\n",
    "    Parameters:\n",
    "    - array: Input array.\n",
    "    - center: Center element for the subpart.\n",
    "    - shape: Shape of the subpart.\n",
    "    - fill_value: Value to fill when padding is necessary.\n",
    "\n",
    "    Returns:\n",
    "    - Subpart extracted from the array.\n",
    "    \"\"\"\n",
    "    array = np.array(array)\n",
    "    center = np.array(center)\n",
    "    shape = np.array(shape)\n",
    "\n",
    "    start_index = np.maximum(center - shape // 2, 0)\n",
    "    end_index = start_index + shape\n",
    "\n",
    "    pad_start = np.maximum(0, shape // 2 - center)\n",
    "    pad_end = np.maximum(0, center + shape // 2 - array.shape)\n",
    "\n",
    "    subpart = np.pad(\n",
    "        array[start_index[0]:end_index[0], start_index[1]:end_index[1]],\n",
    "        ((pad_start[0], pad_end[0]), (pad_start[1], pad_end[1])),\n",
    "        mode='constant',\n",
    "        constant_values=fill_value\n",
    "    )\n",
    "\n",
    "    return subpart\n",
    "\n",
    "# Example usage\n",
    "array = np.array([[1, 2, 3, 4, 5],\n",
    "                  [6, 7, 8, 9, 10],\n",
    "                  [11, 12, 13, 14, 15]])\n",
    "\n",
    "center_element = [7, 8]\n",
    "subpart_shape = [3, 3]\n",
    "\n",
    "result = extract_subpart(array, center_element, subpart_shape, fill_value=0)\n",
    "print(\"Original Array:\")\n",
    "print(array)\n",
    "print(\"\\nExtracted Subpart:\")\n",
    "print(result)\n"
   ]
  },
  {
   "cell_type": "markdown",
   "metadata": {},
   "source": [
    "# Question 81\n",
    " ###  Consider an array Z = [1,2,3,4,5,6,7,8,9,10,11,12,13,14], how to generate an array R = [[1,2,3,4], [2,3,4,5], [3,4,5,6], ..., [11,12,13,14]]? (★★★)\n"
   ]
  },
  {
   "cell_type": "code",
   "execution_count": null,
   "metadata": {},
   "outputs": [
    {
     "ename": "",
     "evalue": "",
     "output_type": "error",
     "traceback": [
      "\u001b[1;31mFailed to start the Kernel. \n",
      "\u001b[1;31mUnable to start Kernel 'anaconda3 (Python 3.11.5)' due to a connection timeout. \n",
      "\u001b[1;31mView Jupyter <a href='command:jupyter.viewOutput'>log</a> for further details."
     ]
    }
   ],
   "source": [
    "import numpy as np\n",
    "\n",
    "def generate_subarrays(Z, window_size):\n",
    "    shape = (len(Z) - window_size + 1, window_size)\n",
    "    strides = (Z.itemsize, Z.itemsize)\n",
    "\n",
    "    R = np.lib.stride_tricks.as_strided(Z, shape=shape, strides=strides)\n",
    "\n",
    "    return R\n",
    "\n",
    "# Example usage\n",
    "Z = np.array([1, 2, 3, 4, 5, 6, 7, 8, 9, 10, 11, 12, 13, 14])\n",
    "window_size = 4\n",
    "\n",
    "R = generate_subarrays(Z, window_size)\n",
    "print(R)\n"
   ]
  },
  {
   "cell_type": "markdown",
   "metadata": {},
   "source": [
    "# Question 82\n",
    "### Compute a matrix rank (★★★)\n",
    "    "
   ]
  },
  {
   "cell_type": "code",
   "execution_count": null,
   "metadata": {},
   "outputs": [
    {
     "ename": "",
     "evalue": "",
     "output_type": "error",
     "traceback": [
      "\u001b[1;31mFailed to start the Kernel. \n",
      "\u001b[1;31mUnable to start Kernel 'anaconda3 (Python 3.11.5)' due to a connection timeout. \n",
      "\u001b[1;31mView Jupyter <a href='command:jupyter.viewOutput'>log</a> for further details."
     ]
    }
   ],
   "source": [
    "import numpy as np\n",
    "\n",
    "# Example matrix\n",
    "matrix = np.array([[1, 2, 3],\n",
    "                   [4, 5, 6],\n",
    "                   [7, 8, 9]])\n",
    "\n",
    "# Compute matrix rank\n",
    "rank = np.linalg.matrix_rank(matrix)\n",
    "\n",
    "print(\"Matrix:\")\n",
    "print(matrix)\n",
    "print(\"\\nRank of the matrix:\", rank)\n"
   ]
  },
  {
   "cell_type": "markdown",
   "metadata": {},
   "source": [
    "# Question 83\n",
    " ### How to find the most frequent value in an array?\n"
   ]
  },
  {
   "cell_type": "code",
   "execution_count": null,
   "metadata": {},
   "outputs": [
    {
     "ename": "",
     "evalue": "",
     "output_type": "error",
     "traceback": [
      "\u001b[1;31mFailed to start the Kernel. \n",
      "\u001b[1;31mUnable to start Kernel 'anaconda3 (Python 3.11.5)' due to a connection timeout. \n",
      "\u001b[1;31mView Jupyter <a href='command:jupyter.viewOutput'>log</a> for further details."
     ]
    }
   ],
   "source": [
    "\n",
    "# Example array\n",
    "arr = np.array([1, 2, 3, 4, 2, 2, 3, 1, 4, 4, 5])\n",
    "\n",
    "# Find the most frequent value\n",
    "most_frequent_value = np.argmax(np.bincount(arr))\n",
    "\n",
    "print(\"Array:\", arr)\n",
    "print(\"Most Frequent Value:\", most_frequent_value)\n"
   ]
  },
  {
   "cell_type": "markdown",
   "metadata": {},
   "source": [
    "# Question 84\n",
    "### Extract all the contiguous 3x3 blocks from a random 10x10 matrix (★★★)\n",
    " "
   ]
  },
  {
   "cell_type": "code",
   "execution_count": null,
   "metadata": {},
   "outputs": [
    {
     "ename": "",
     "evalue": "",
     "output_type": "error",
     "traceback": [
      "\u001b[1;31mFailed to start the Kernel. \n",
      "\u001b[1;31mUnable to start Kernel 'anaconda3 (Python 3.11.5)' due to a connection timeout. \n",
      "\u001b[1;31mView Jupyter <a href='command:jupyter.viewOutput'>log</a> for further details."
     ]
    }
   ],
   "source": [
    "# Create a random 10x10 matrix\n",
    "matrix = np.random.randint(0, 10, size=(10, 10))\n",
    "\n",
    "# Size of the blocks\n",
    "block_size = 3\n",
    "\n",
    "# Extract contiguous 3x3 blocks\n",
    "blocks = [matrix[i:i+block_size, j:j+block_size] for i in range(8) for j in range(8)]\n",
    "\n",
    "# Print the original matrix and the extracted blocks\n",
    "print(\"Original Matrix:\")\n",
    "print(matrix)\n",
    "print(\"\\nExtracted 3x3 Blocks:\")\n",
    "for block in blocks:\n",
    "    print(block)\n",
    "    print()\n"
   ]
  },
  {
   "cell_type": "markdown",
   "metadata": {},
   "source": [
    "# Question 85\n",
    " ### Create a 2D array subclass such that Z[i,j] == Z[j,i] (★★★)"
   ]
  },
  {
   "cell_type": "code",
   "execution_count": null,
   "metadata": {},
   "outputs": [
    {
     "ename": "",
     "evalue": "",
     "output_type": "error",
     "traceback": [
      "\u001b[1;31mFailed to start the Kernel. \n",
      "\u001b[1;31mUnable to start Kernel 'anaconda3 (Python 3.11.5)' due to a connection timeout. \n",
      "\u001b[1;31mView Jupyter <a href='command:jupyter.viewOutput'>log</a> for further details."
     ]
    }
   ],
   "source": [
    "import numpy as np\n",
    "\n",
    "class SymmetricArray(np.ndarray):\n",
    "    def __new__(cls, input_array):\n",
    "        obj = np.asarray(input_array).view(cls)\n",
    "        return obj\n",
    "\n",
    "    def __getitem__(self, index):\n",
    "        i, j = index\n",
    "        return super().__getitem__((i, j))\n",
    "\n",
    "    def __setitem__(self, index, value):\n",
    "        i, j = index\n",
    "        super().__setitem__((i, j), value)\n",
    "        super().__setitem__((j, i), value)\n",
    "\n",
    "# Example usage\n",
    "original_array = np.random.randint(0, 10, size=(3, 3))\n",
    "symmetric_array = SymmetricArray(original_array)\n",
    "\n",
    "print(\"Original Array:\")\n",
    "print(original_array)\n",
    "print(\"\\nSymmetric Array:\")\n",
    "print(symmetric_array)\n",
    "\n",
    "# Verify symmetry\n",
    "print(\"\\nIs Symmetric:\", np.all(symmetric_array == symmetric_array.T))\n"
   ]
  },
  {
   "cell_type": "markdown",
   "metadata": {},
   "source": [
    "# Question 86\n",
    "### Consider a set of p matrices with shape (n,n) and a set of p vectors with shape (n,1). How to compute the sum of of the p matrix products at once? (result has shape (n,1)) (★★★)"
   ]
  },
  {
   "cell_type": "code",
   "execution_count": null,
   "metadata": {},
   "outputs": [
    {
     "ename": "",
     "evalue": "",
     "output_type": "error",
     "traceback": [
      "\u001b[1;31mFailed to start the Kernel. \n",
      "\u001b[1;31mUnable to start Kernel 'anaconda3 (Python 3.11.5)' due to a connection timeout. \n",
      "\u001b[1;31mView Jupyter <a href='command:jupyter.viewOutput'>log</a> for further details."
     ]
    }
   ],
   "source": [
    "import numpy as np\n",
    "\n",
    "# Number of matrices and vectors\n",
    "p = 3\n",
    "n = 4\n",
    "\n",
    "# Generate random matrices and vectors\n",
    "matrices = [np.random.rand(n, n) for _ in range(p)]\n",
    "vectors = [np.random.rand(n, 1) for _ in range(p)]\n",
    "\n",
    "# Compute the sum of the matrix products at once\n",
    "result = np.einsum('ijk,jkl->ikl', matrices, vectors)\n",
    "\n",
    "print(\"Matrices:\")\n",
    "for i, matrix in enumerate(matrices):\n",
    "    print(f\"Matrix {i + 1}:\\n{matrix}\\n\")\n",
    "\n",
    "print(\"Vectors:\")\n",
    "for i, vector in enumerate(vectors):\n",
    "    print(f\"Vector {i + 1}:\\n{vector}\\n\")\n",
    "\n",
    "print(\"Result:\")\n",
    "print(result)\n"
   ]
  },
  {
   "cell_type": "markdown",
   "metadata": {},
   "source": [
    "# Question 87\n",
    "### Consider a 16x16 array, how to get the block-sum (block size is 4x4)? (★★★)\n"
   ]
  },
  {
   "cell_type": "code",
   "execution_count": null,
   "metadata": {},
   "outputs": [
    {
     "ename": "",
     "evalue": "",
     "output_type": "error",
     "traceback": [
      "\u001b[1;31mFailed to start the Kernel. \n",
      "\u001b[1;31mUnable to start Kernel 'anaconda3 (Python 3.11.5)' due to a connection timeout. \n",
      "\u001b[1;31mView Jupyter <a href='command:jupyter.viewOutput'>log</a> for further details."
     ]
    }
   ],
   "source": [
    "# Create a random 16x16 array\n",
    "array_16x16 = np.random.randint(1, 10, size=(16, 16))\n",
    "\n",
    "# Define the block size\n",
    "block_size = 4\n",
    "\n",
    "# Reshape and sum along specified axes to get the block-sum\n",
    "block_sum = np.sum(array_16x16.reshape(4, 4, 4, 4), axis=(1, 3))\n",
    "\n",
    "print(\"Original 16x16 Array:\")\n",
    "print(array_16x16)\n",
    "print(\"\\nBlock-Sum (4x4 blocks):\")\n",
    "print(block_sum)\n"
   ]
  },
  {
   "cell_type": "markdown",
   "metadata": {},
   "source": [
    "# Question 88\n",
    "### How to implement the Game of Life using numpy arrays? (★★★)\n"
   ]
  },
  {
   "cell_type": "code",
   "execution_count": null,
   "metadata": {},
   "outputs": [
    {
     "ename": "",
     "evalue": "",
     "output_type": "error",
     "traceback": [
      "\u001b[1;31mFailed to start the Kernel. \n",
      "\u001b[1;31mUnable to start Kernel 'anaconda3 (Python 3.11.5)' due to a connection timeout. \n",
      "\u001b[1;31mView Jupyter <a href='command:jupyter.viewOutput'>log</a> for further details."
     ]
    }
   ],
   "source": [
    "import numpy as np\n",
    "import matplotlib.pyplot as plt\n",
    "import matplotlib.animation as animation\n",
    "\n",
    "def update(frameNum, img, grid, N):\n",
    "    # Copy the grid to apply the rules without modifying the original grid\n",
    "    newGrid = grid.copy()\n",
    "    for i in range(N):\n",
    "        for j in range(N):\n",
    "            # Compute the sum of the eight neighbors\n",
    "            total = int((grid[i, (j-1)%N] + grid[i, (j+1)%N] +\n",
    "                         grid[(i-1)%N, j] + grid[(i+1)%N, j] +\n",
    "                         grid[(i-1)%N, (j-1)%N] + grid[(i-1)%N, (j+1)%N] +\n",
    "                         grid[(i+1)%N, (j-1)%N] + grid[(i+1)%N, (j+1)%N]) / 255)\n",
    "\n",
    "            # Apply the rules of the Game of Life\n",
    "            if grid[i, j] == ON:\n",
    "                if (total < 2) or (total > 3):\n",
    "                    newGrid[i, j] = OFF\n",
    "            else:\n",
    "                if total == 3:\n",
    "                    newGrid[i, j] = ON\n",
    "\n",
    "    # Update the data of the plot\n",
    "    img.set_data(newGrid)\n",
    "    grid[:] = newGrid[:]\n",
    "    return img\n",
    "\n",
    "# Constants\n",
    "ON = 255\n",
    "OFF = 0\n",
    "N = 100  # Grid size\n",
    "updateInterval = 50  # Milliseconds\n",
    "\n",
    "# Create a random initial state\n",
    "grid = np.random.choice([ON, OFF], N*N, p=[0.2, 0.8]).reshape(N, N)\n",
    "\n",
    "# Set up the plot\n",
    "fig, ax = plt.subplots()\n",
    "img = ax.imshow(grid, interpolation='nearest')\n",
    "ani = animation.FuncAnimation(fig, update, fargs=(img, grid, N),\n",
    "                              frames=10, interval=updateInterval, save_count=50)\n",
    "\n",
    "plt.show()\n"
   ]
  },
  {
   "cell_type": "markdown",
   "metadata": {},
   "source": [
    "# Question 89\n",
    "### How to get the n largest values of an array (★★★)\n"
   ]
  },
  {
   "cell_type": "code",
   "execution_count": null,
   "metadata": {},
   "outputs": [
    {
     "ename": "",
     "evalue": "",
     "output_type": "error",
     "traceback": [
      "\u001b[1;31mFailed to start the Kernel. \n",
      "\u001b[1;31mUnable to start Kernel 'anaconda3 (Python 3.11.5)' due to a connection timeout. \n",
      "\u001b[1;31mView Jupyter <a href='command:jupyter.viewOutput'>log</a> for further details."
     ]
    }
   ],
   "source": [
    "# Create an example array\n",
    "arr = np.array([4, 2, 8, 5, 1, 9, 7, 3, 6])\n",
    "\n",
    "# Get the indices of the n largest values\n",
    "n_largest_indices = np.argsort(arr)[-n:]\n",
    "\n",
    "# Get the n largest values using the indices\n",
    "n_largest_values = arr[n_largest_indices]\n",
    "\n",
    "print(f\"The {n} largest values are: {n_largest_values}\")\n"
   ]
  },
  {
   "cell_type": "markdown",
   "metadata": {},
   "source": [
    "# Question 90\n",
    "### Given an arbitrary number of vectors, build the cartesian product (every combinations of every item) (★★★)\n"
   ]
  },
  {
   "cell_type": "code",
   "execution_count": null,
   "metadata": {},
   "outputs": [
    {
     "ename": "",
     "evalue": "",
     "output_type": "error",
     "traceback": [
      "\u001b[1;31mFailed to start the Kernel. \n",
      "\u001b[1;31mUnable to start Kernel 'anaconda3 (Python 3.11.5)' due to a connection timeout. \n",
      "\u001b[1;31mView Jupyter <a href='command:jupyter.viewOutput'>log</a> for further details."
     ]
    }
   ],
   "source": [
    "# Example vectors\n",
    "vectors = [\n",
    "    np.array([1, 2, 3]),\n",
    "    np.array(['a', 'b', 'c']),\n",
    "    np.array([0.1, 0.2])\n",
    "]\n",
    "\n",
    "# Use numpy.meshgrid to get the Cartesian product\n",
    "cartesian_product = np.array(np.meshgrid(*vectors)).T.reshape(-1, len(vectors))\n",
    "\n",
    "print(\"Cartesian Product:\")\n",
    "print(cartesian_product)\n"
   ]
  },
  {
   "cell_type": "markdown",
   "metadata": {},
   "source": [
    "# Question 91\n",
    "### How to create a record array from a regular array? (★★★)\n"
   ]
  },
  {
   "cell_type": "code",
   "execution_count": null,
   "metadata": {},
   "outputs": [
    {
     "ename": "",
     "evalue": "",
     "output_type": "error",
     "traceback": [
      "\u001b[1;31mFailed to start the Kernel. \n",
      "\u001b[1;31mUnable to start Kernel 'anaconda3 (Python 3.11.5)' due to a connection timeout. \n",
      "\u001b[1;31mView Jupyter <a href='command:jupyter.viewOutput'>log</a> for further details."
     ]
    }
   ],
   "source": [
    "# Regular array\n",
    "regular_array = np.array([(1, 'John', 25),\n",
    "                          (2, 'Alice', 30),\n",
    "                          (3, 'Bob', 22)],\n",
    "                         dtype=[('id', int), ('name', 'U10'), ('age', int)])\n",
    "\n",
    "# Create a record array\n",
    "record_array = np.core.records.array(regular_array)\n",
    "\n",
    "print(\"Regular Array:\")\n",
    "print(regular_array)\n",
    "\n",
    "print(\"\\nRecord Array:\")\n",
    "print(record_array)\n"
   ]
  },
  {
   "cell_type": "markdown",
   "metadata": {},
   "source": [
    "# Question 92\n",
    "### Consider a large vector Z, compute Z to the power of 3 using 3 different methods (★★★)\n"
   ]
  },
  {
   "cell_type": "code",
   "execution_count": null,
   "metadata": {},
   "outputs": [
    {
     "ename": "",
     "evalue": "",
     "output_type": "error",
     "traceback": [
      "\u001b[1;31mFailed to start the Kernel. \n",
      "\u001b[1;31mUnable to start Kernel 'anaconda3 (Python 3.11.5)' due to a connection timeout. \n",
      "\u001b[1;31mView Jupyter <a href='command:jupyter.viewOutput'>log</a> for further details."
     ]
    }
   ],
   "source": [
    "# Create a large vector Z\n",
    "Z = np.random.rand(1000000)\n",
    "\n",
    "# Method 1: Using np.power\n",
    "result_method_1 = np.power(Z, 3)\n",
    "result_method_1"
   ]
  },
  {
   "cell_type": "code",
   "execution_count": null,
   "metadata": {},
   "outputs": [
    {
     "ename": "",
     "evalue": "",
     "output_type": "error",
     "traceback": [
      "\u001b[1;31mFailed to start the Kernel. \n",
      "\u001b[1;31mUnable to start Kernel 'anaconda3 (Python 3.11.5)' due to a connection timeout. \n",
      "\u001b[1;31mView Jupyter <a href='command:jupyter.viewOutput'>log</a> for further details."
     ]
    }
   ],
   "source": [
    "# Method 2: Using the ** operator\n",
    "result_method_2 = Z ** 3\n",
    "result_method_2\n"
   ]
  },
  {
   "cell_type": "code",
   "execution_count": null,
   "metadata": {},
   "outputs": [
    {
     "ename": "",
     "evalue": "",
     "output_type": "error",
     "traceback": [
      "\u001b[1;31mFailed to start the Kernel. \n",
      "\u001b[1;31mUnable to start Kernel 'anaconda3 (Python 3.11.5)' due to a connection timeout. \n",
      "\u001b[1;31mView Jupyter <a href='command:jupyter.viewOutput'>log</a> for further details."
     ]
    }
   ],
   "source": [
    "# Method 3: Using np.multiply\n",
    "result_method_3 = np.multiply(Z, np.multiply(Z, Z))\n",
    "result_method_3"
   ]
  },
  {
   "cell_type": "markdown",
   "metadata": {},
   "source": [
    "# Question 93\n",
    "### Consider two arrays A and B of shape (8,3) and (2,2). How to find rows of A that contain elements of each row of B regardless of the order of the elements in B? (★★★)\n"
   ]
  },
  {
   "cell_type": "code",
   "execution_count": null,
   "metadata": {},
   "outputs": [
    {
     "ename": "",
     "evalue": "",
     "output_type": "error",
     "traceback": [
      "\u001b[1;31mFailed to start the Kernel. \n",
      "\u001b[1;31mUnable to start Kernel 'anaconda3 (Python 3.11.5)' due to a connection timeout. \n",
      "\u001b[1;31mView Jupyter <a href='command:jupyter.viewOutput'>log</a> for further details."
     ]
    }
   ],
   "source": [
    "# Create arrays A and B\n",
    "A = np.random.randint(0, 10, size=(8, 3))\n",
    "B = np.random.randint(0, 10, size=(2, 2))\n",
    "\n",
    "print(\"Array A:\")\n",
    "print(A)\n",
    "\n",
    "print(\"\\nArray B:\")\n",
    "print(B)\n",
    "\n",
    "# Check if any element in each row of B is in the corresponding row of A\n",
    "contains_elements = np.all(np.isin(A, B), axis=1)\n",
    "\n",
    "# Get the rows of A that contain elements of each row of B\n",
    "result_rows_of_A = A[contains_elements]\n",
    "\n",
    "print(\"\\nRows of A that contain elements of each row of B:\")\n",
    "print(result_rows_of_A)\n"
   ]
  },
  {
   "cell_type": "markdown",
   "metadata": {},
   "source": [
    "# Question 94\n",
    "### Considering a 10x3 matrix, extract rows with unequal values (e.g. [2,2,3]) (★★★)\n"
   ]
  },
  {
   "cell_type": "code",
   "execution_count": null,
   "metadata": {},
   "outputs": [
    {
     "ename": "",
     "evalue": "",
     "output_type": "error",
     "traceback": [
      "\u001b[1;31mFailed to start the Kernel. \n",
      "\u001b[1;31mUnable to start Kernel 'anaconda3 (Python 3.11.5)' due to a connection timeout. \n",
      "\u001b[1;31mView Jupyter <a href='command:jupyter.viewOutput'>log</a> for further details."
     ]
    }
   ],
   "source": [
    "# Create a 10x3 matrix\n",
    "matrix = np.random.randint(0, 4, size=(10, 3))\n",
    "\n",
    "print(\"Original Matrix:\")\n",
    "print(matrix)\n",
    "\n",
    "# Check for rows with unequal values\n",
    "unequal_rows = np.any(np.diff(matrix, axis=1) != 0, axis=1)\n",
    "\n",
    "# Extract rows with unequal values\n",
    "result_matrix = matrix[unequal_rows]\n",
    "\n",
    "print(\"\\nRows with Unequal Values:\")\n",
    "print(result_matrix)\n"
   ]
  },
  {
   "cell_type": "markdown",
   "metadata": {},
   "source": [
    "# Question 95\n",
    "### Convert a vector of ints into a matrix binary representation (★★★)"
   ]
  },
  {
   "cell_type": "code",
   "execution_count": null,
   "metadata": {},
   "outputs": [
    {
     "ename": "",
     "evalue": "",
     "output_type": "error",
     "traceback": [
      "\u001b[1;31mFailed to start the Kernel. \n",
      "\u001b[1;31mUnable to start Kernel 'anaconda3 (Python 3.11.5)' due to a connection timeout. \n",
      "\u001b[1;31mView Jupyter <a href='command:jupyter.viewOutput'>log</a> for further details."
     ]
    }
   ],
   "source": [
    "# Create a vector of integers\n",
    "vector_of_ints = np.array([5, 10, 3, 7], dtype=np.uint8)\n",
    "\n",
    "# Convert each integer to its binary representation\n",
    "binary_representation = np.unpackbits(vector_of_ints[:, np.newaxis], axis=1)\n",
    "\n",
    "print(\"Vector of Integers:\")\n",
    "print(vector_of_ints)\n",
    "\n",
    "print(\"\\nBinary Representation Matrix:\")\n",
    "print(binary_representation)\n"
   ]
  },
  {
   "cell_type": "markdown",
   "metadata": {},
   "source": [
    "# Question 96\n",
    "### Given a two dimensional array, how to extract unique rows? (★★★)"
   ]
  },
  {
   "cell_type": "code",
   "execution_count": null,
   "metadata": {},
   "outputs": [
    {
     "ename": "",
     "evalue": "",
     "output_type": "error",
     "traceback": [
      "\u001b[1;31mFailed to start the Kernel. \n",
      "\u001b[1;31mUnable to start Kernel 'anaconda3 (Python 3.11.5)' due to a connection timeout. \n",
      "\u001b[1;31mView Jupyter <a href='command:jupyter.viewOutput'>log</a> for further details."
     ]
    }
   ],
   "source": [
    "# Create a two-dimensional array\n",
    "array_2d = np.array([[1, 2, 3],\n",
    "                     [4, 5, 6],\n",
    "                     [1, 2, 3],\n",
    "                     [7, 8, 9]])\n",
    "\n",
    "print(\"Original 2D Array:\")\n",
    "print(array_2d)\n",
    "\n",
    "# Use numpy.unique to extract unique rows\n",
    "unique_rows, unique_indices = np.unique(array_2d, axis=0, return_index=True)\n",
    "\n",
    "print(\"\\nUnique Rows:\")\n",
    "print(unique_rows)\n"
   ]
  },
  {
   "cell_type": "markdown",
   "metadata": {},
   "source": [
    "# Question 97\n",
    "### Considering 2 vectors A & B, write the einsum equivalent of inner, outer, sum, and mul function (★★★)\n"
   ]
  },
  {
   "cell_type": "code",
   "execution_count": null,
   "metadata": {},
   "outputs": [
    {
     "ename": "",
     "evalue": "",
     "output_type": "error",
     "traceback": [
      "\u001b[1;31mFailed to start the Kernel. \n",
      "\u001b[1;31mUnable to start Kernel 'anaconda3 (Python 3.11.5)' due to a connection timeout. \n",
      "\u001b[1;31mView Jupyter <a href='command:jupyter.viewOutput'>log</a> for further details."
     ]
    }
   ],
   "source": [
    "A = np.array([1, 2, 3])\n",
    "B = np.array([4, 5, 6])\n",
    "\n",
    "inner_product = np.einsum('i,i->', A, B)\n",
    "inner_product\n"
   ]
  },
  {
   "cell_type": "code",
   "execution_count": null,
   "metadata": {},
   "outputs": [
    {
     "ename": "",
     "evalue": "",
     "output_type": "error",
     "traceback": [
      "\u001b[1;31mFailed to start the Kernel. \n",
      "\u001b[1;31mUnable to start Kernel 'anaconda3 (Python 3.11.5)' due to a connection timeout. \n",
      "\u001b[1;31mView Jupyter <a href='command:jupyter.viewOutput'>log</a> for further details."
     ]
    }
   ],
   "source": [
    "outer_product = np.einsum('i,j->ij', A, B)\n",
    "outer_product\n"
   ]
  },
  {
   "cell_type": "code",
   "execution_count": null,
   "metadata": {},
   "outputs": [
    {
     "ename": "",
     "evalue": "",
     "output_type": "error",
     "traceback": [
      "\u001b[1;31mFailed to start the Kernel. \n",
      "\u001b[1;31mUnable to start Kernel 'anaconda3 (Python 3.11.5)' due to a connection timeout. \n",
      "\u001b[1;31mView Jupyter <a href='command:jupyter.viewOutput'>log</a> for further details."
     ]
    }
   ],
   "source": [
    "sum_result = np.einsum('i->', A)\n",
    "sum_result \n"
   ]
  },
  {
   "cell_type": "code",
   "execution_count": null,
   "metadata": {},
   "outputs": [
    {
     "ename": "",
     "evalue": "",
     "output_type": "error",
     "traceback": [
      "\u001b[1;31mFailed to start the Kernel. \n",
      "\u001b[1;31mUnable to start Kernel 'anaconda3 (Python 3.11.5)' due to a connection timeout. \n",
      "\u001b[1;31mView Jupyter <a href='command:jupyter.viewOutput'>log</a> for further details."
     ]
    }
   ],
   "source": [
    "elementwise_mul = np.einsum('i,i->i', A, B)\n",
    "elementwise_mul \n"
   ]
  },
  {
   "cell_type": "markdown",
   "metadata": {},
   "source": [
    "# Question 98\n",
    "###  Considering a path described by two vectors (X,Y), how to sample it using equidistant samples (★★★)?\n"
   ]
  },
  {
   "cell_type": "code",
   "execution_count": 169,
   "metadata": {},
   "outputs": [
    {
     "data": {
      "image/png": "[encoded data removed]",
      "text/plain": [
       "<Figure size 640x480 with 1 Axes>"
      ]
     },
     "metadata": {},
     "output_type": "display_data"
    }
   ],
   "source": [
    "\n",
    "import matplotlib.pyplot as plt\n",
    "\n",
    "# Example vectors representing the path (replace with your own data)\n",
    "X = np.array([1, 2, 4, 7, 11, 16])\n",
    "Y = np.array([3, 6, 2, 8, 5, 9])\n",
    "\n",
    "# Number of equidistant samples\n",
    "num_samples = 100\n",
    "\n",
    "# Interpolate along the path using numpy.linspace\n",
    "sampled_X = np.linspace(X.min(), X.max(), num_samples)\n",
    "sampled_Y = np.interp(sampled_X, X, Y)\n",
    "\n",
    "# Plot the original path and the equidistant samples\n",
    "plt.plot(X, Y, 'o-', label='Original Path')\n",
    "plt.plot(sampled_X, sampled_Y, 's', label='Equidistant Samples')\n",
    "plt.legend()\n",
    "plt.xlabel('X')\n",
    "plt.ylabel('Y')\n",
    "plt.title('Equidistant Sampling of a Path')\n",
    "plt.show()\n"
   ]
  },
  {
   "cell_type": "markdown",
   "metadata": {},
   "source": [
    "# Question 99\n",
    "### Given an integer n and a 2D array X, select from X the rows which can be interpreted as draws from a multinomial distribution with n degrees, i.e., the rows which only contain integers and which sum to n. (★★★)\n"
   ]
  },
  {
   "cell_type": "code",
   "execution_count": 172,
   "metadata": {},
   "outputs": [
    {
     "name": "stdout",
     "output_type": "stream",
     "text": [
      "Selected Rows:\n",
      "[[2 5 3]\n",
      " [1 3 6]\n",
      " [4 3 3]\n",
      " [2 2 6]\n",
      " [3 2 5]]\n"
     ]
    }
   ],
   "source": [
    "\n",
    "\n",
    "def select_multinomial_rows(X, n):\n",
    "    # Check if each element in the array is an integer\n",
    "    is_integer = np.all(X.astype(int) == X, axis=1)\n",
    "\n",
    "    # Check if the sum of each row is equal to 'n'\n",
    "    sum_equals_n = np.sum(X, axis=1) == n\n",
    "\n",
    "    # Combine the conditions to select rows\n",
    "    selected_rows = X[is_integer & sum_equals_n]\n",
    "\n",
    "    return selected_rows\n",
    "\n",
    "# Example usage:\n",
    "n = 10\n",
    "X = np.array([[2, 5, 3], [1, 3, 6], [4, 3, 3], [2, 2, 6], [3, 2, 5]])\n",
    "\n",
    "result = select_multinomial_rows(X, n)\n",
    "print(\"Selected Rows:\")\n",
    "print(result)\n",
    "\n"
   ]
  },
  {
   "cell_type": "markdown",
   "metadata": {},
   "source": [
    "# Question 100\n",
    "### Compute bootstrapped 95% confidence intervals for the mean of a 1D array X (i.e., resample the elements of an array with replacement N times, compute the mean of each sample, and then compute percentiles over the means). (★★★)"
   ]
  },
  {
   "cell_type": "code",
   "execution_count": 173,
   "metadata": {},
   "outputs": [
    {
     "name": "stdout",
     "output_type": "stream",
     "text": [
      "Bootstrapped 95% Confidence Interval for the Mean: (4.455327150281501, 5.12570297288039)\n"
     ]
    }
   ],
   "source": [
    "\n",
    "def bootstrap_confidence_interval(X, num_samples=1000, confidence_level=95):\n",
    "    # Create an array to store the means of the bootstrap samples\n",
    "    bootstrap_means = np.zeros(num_samples)\n",
    "\n",
    "    # Perform bootstrapping\n",
    "    for i in range(num_samples):\n",
    "        # Resample with replacement\n",
    "        bootstrap_sample = np.random.choice(X, size=len(X), replace=True)\n",
    "\n",
    "        # Compute the mean of the bootstrap sample\n",
    "        bootstrap_means[i] = np.mean(bootstrap_sample)\n",
    "\n",
    "    # Compute the confidence interval\n",
    "    lower_percentile = (100 - confidence_level) / 2\n",
    "    upper_percentile = 100 - lower_percentile\n",
    "    lower_bound = np.percentile(bootstrap_means, lower_percentile)\n",
    "    upper_bound = np.percentile(bootstrap_means, upper_percentile)\n",
    "\n",
    "    return lower_bound, upper_bound\n",
    "\n",
    "# Example usage:\n",
    "np.random.seed(42)  # For reproducibility\n",
    "X = np.random.normal(loc=5, scale=2, size=100)  # Example 1D array\n",
    "\n",
    "confidence_interval = bootstrap_confidence_interval(X, num_samples=1000, confidence_level=95)\n",
    "print(f\"Bootstrapped 95% Confidence Interval for the Mean: {confidence_interval}\")\n"
   ]
  },
  {
   "cell_type": "code",
   "execution_count": 174,
   "metadata": {},
   "outputs": [
    {
     "ename": "NameError",
     "evalue": "name 'bootstrap_means' is not defined",
     "output_type": "error",
     "traceback": [
      "\u001b[1;31m---------------------------------------------------------------------------\u001b[0m",
      "\u001b[1;31mNameError\u001b[0m                                 Traceback (most recent call last)",
      "Cell \u001b[1;32mIn[174], line 25\u001b[0m\n\u001b[0;32m     22\u001b[0m confidence_interval \u001b[38;5;241m=\u001b[39m bootstrap_confidence_interval(X, num_samples\u001b[38;5;241m=\u001b[39m\u001b[38;5;241m1000\u001b[39m, confidence_level\u001b[38;5;241m=\u001b[39m\u001b[38;5;241m95\u001b[39m)\n\u001b[0;32m     24\u001b[0m \u001b[38;5;66;03m# Plot histogram of bootstrap means\u001b[39;00m\n\u001b[1;32m---> 25\u001b[0m plt\u001b[38;5;241m.\u001b[39mhist(bootstrap_means, bins\u001b[38;5;241m=\u001b[39m\u001b[38;5;241m30\u001b[39m, edgecolor\u001b[38;5;241m=\u001b[39m\u001b[38;5;124m'\u001b[39m\u001b[38;5;124mblack\u001b[39m\u001b[38;5;124m'\u001b[39m, alpha\u001b[38;5;241m=\u001b[39m\u001b[38;5;241m0.7\u001b[39m, label\u001b[38;5;241m=\u001b[39m\u001b[38;5;124m'\u001b[39m\u001b[38;5;124mBootstrap Means\u001b[39m\u001b[38;5;124m'\u001b[39m)\n\u001b[0;32m     27\u001b[0m \u001b[38;5;66;03m# Plot vertical lines for the confidence interval\u001b[39;00m\n\u001b[0;32m     28\u001b[0m plt\u001b[38;5;241m.\u001b[39maxvline(confidence_interval[\u001b[38;5;241m0\u001b[39m], color\u001b[38;5;241m=\u001b[39m\u001b[38;5;124m'\u001b[39m\u001b[38;5;124mred\u001b[39m\u001b[38;5;124m'\u001b[39m, linestyle\u001b[38;5;241m=\u001b[39m\u001b[38;5;124m'\u001b[39m\u001b[38;5;124m--\u001b[39m\u001b[38;5;124m'\u001b[39m, label\u001b[38;5;241m=\u001b[39m\u001b[38;5;124m'\u001b[39m\u001b[38;5;124mLower Bound (2.5\u001b[39m\u001b[38;5;124m%\u001b[39m\u001b[38;5;124m)\u001b[39m\u001b[38;5;124m'\u001b[39m)\n",
      "\u001b[1;31mNameError\u001b[0m: name 'bootstrap_means' is not defined"
     ]
    }
   ],
   "source": [
    "import numpy as np\n",
    "import matplotlib.pyplot as plt\n",
    "\n",
    "def bootstrap_confidence_interval(X, num_samples=1000, confidence_level=95):\n",
    "    bootstrap_means = np.zeros(num_samples)\n",
    "    for i in range(num_samples):\n",
    "        bootstrap_sample = np.random.choice(X, size=len(X), replace=True)\n",
    "        bootstrap_means[i] = np.mean(bootstrap_sample)\n",
    "\n",
    "    lower_percentile = (100 - confidence_level) / 2\n",
    "    upper_percentile = 100 - lower_percentile\n",
    "    lower_bound = np.percentile(bootstrap_means, lower_percentile)\n",
    "    upper_bound = np.percentile(bootstrap_means, upper_percentile)\n",
    "\n",
    "    return lower_bound, upper_bound\n",
    "\n",
    "# Example usage:\n",
    "np.random.seed(42)\n",
    "X = np.random.normal(loc=5, scale=2, size=100)\n",
    "\n",
    "# Compute bootstrapped confidence interval\n",
    "confidence_interval = bootstrap_confidence_interval(X, num_samples=1000, confidence_level=95)\n",
    "\n",
    "# Plot histogram of bootstrap means\n",
    "plt.hist(bootstrap_means, bins=30, edgecolor='black', alpha=0.7, label='Bootstrap Means')\n",
    "\n",
    "# Plot vertical lines for the confidence interval\n",
    "plt.axvline(confidence_interval[0], color='red', linestyle='--', label='Lower Bound (2.5%)')\n",
    "plt.axvline(confidence_interval[1], color='blue', linestyle='--', label='Upper Bound (97.5%)')\n",
    "\n",
    "# Plot the actual mean of the original data\n",
    "plt.axvline(np.mean(X), color='green', linestyle='-', linewidth=2, label='Original Mean')\n",
    "\n",
    "# Add labels and legend\n",
    "plt.xlabel('Bootstrap Means')\n",
    "plt.ylabel('Frequency')\n",
    "plt.title('Bootstrapped 95% Confidence Interval for the Mean')\n",
    "plt.legend()\n",
    "\n",
    "# Show the plot\n",
    "plt.show()\n"
   ]
  }
 ],
 "metadata": {
  "kernelspec": {
   "display_name": "Python 3",
   "language": "python",
   "name": "python3"
  },
  "language_info": {
   "codemirror_mode": {
    "name": "ipython",
    "version": 3
   },
   "file_extension": ".py",
   "mimetype": "text/x-python",
   "name": "python",
   "nbconvert_exporter": "python",
   "pygments_lexer": "ipython3",
   "version": "3.11.5"
  }
 },
 "nbformat": 4,
 "nbformat_minor": 2
}
